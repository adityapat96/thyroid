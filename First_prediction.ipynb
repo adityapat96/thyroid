{
  "cells": [
    {
      "cell_type": "code",
      "execution_count": 1,
      "metadata": {
        "id": "x2fsyClhl0VM"
      },
      "outputs": [],
      "source": [
        "##Predict if patients will be undergoing thyroid surgery based on their blood work"
      ]
    },
    {
      "cell_type": "code",
      "execution_count": 2,
      "metadata": {
        "colab": {
          "base_uri": "https://localhost:8080/"
        },
        "id": "dfvsWZ3aXm8X",
        "outputId": "ab1c33fe-6477-4ff7-bec2-f6578dc7c54d"
      },
      "outputs": [
        {
          "output_type": "stream",
          "name": "stdout",
          "text": [
            "Mounted at /content/drive\n"
          ]
        }
      ],
      "source": [
        "from google.colab import drive\n",
        "drive.mount('/content/drive')"
      ]
    },
    {
      "cell_type": "code",
      "execution_count": 3,
      "metadata": {
        "id": "8O7Hk7xHiqZE"
      },
      "outputs": [],
      "source": [
        "import datetime\n",
        "import os\n",
        "import collections\n",
        "\n",
        "import numpy as np\n",
        "import pandas as pd\n",
        "import seaborn as sns\n",
        "from collections import Counter\n",
        "from matplotlib import pyplot as plt\n",
        "from mlxtend.plotting import plot_confusion_matrix\n",
        "from sklearn.datasets import make_classification\n",
        "from sklearn.ensemble import RandomForestClassifier\n",
        "from sklearn.linear_model import LogisticRegression\n",
        "from sklearn.ensemble import GradientBoostingClassifier\n",
        "from sklearn import metrics\n",
        "from sklearn.metrics import (accuracy_score, auc, classification_report,\n",
        "                             confusion_matrix, f1_score, precision_recall_curve,\n",
        "                             precision_score, recall_score, roc_auc_score,\n",
        "                             roc_curve)\n",
        "from sklearn.metrics import confusion_matrix\n",
        "from sklearn.model_selection import (cross_validate, train_test_split)\n",
        "from sklearn.neighbors import KNeighborsClassifier\n",
        "from sklearn.neural_network import MLPClassifier\n",
        "from sklearn.preprocessing import OneHotEncoder, StandardScaler\n",
        "from sklearn.svm import SVC\n",
        "from sklearn.tree import DecisionTreeClassifier\n",
        "from sklearn.utils import shuffle\n",
        "from sklearn.model_selection import KFold\n",
        "\n",
        "\n",
        "import keras\n",
        "from keras.callbacks import TensorBoard\n",
        "from keras.layers import Dense, Dropout\n",
        "from keras.models import Sequential\n",
        "from keras.optimizers import Adam\n",
        "\n",
        "from keras.utils.vis_utils import plot_model\n",
        "\n",
        "from imblearn.over_sampling import RandomOverSampler\n",
        "from imblearn.under_sampling import RandomUnderSampler"
      ]
    },
    {
      "cell_type": "code",
      "execution_count": 4,
      "metadata": {
        "colab": {
          "base_uri": "https://localhost:8080/"
        },
        "id": "j96IUyNWk_tT",
        "outputId": "07bd63b1-596c-4273-bced-a8bdd81fadf0"
      },
      "outputs": [
        {
          "output_type": "execute_result",
          "data": {
            "text/plain": [
              "(8624, 29)"
            ]
          },
          "metadata": {},
          "execution_count": 4
        }
      ],
      "source": [
        "dataset_file = \"/content/drive/MyDrive/506/Final Project/thyroid_preprocessed.csv\"\n",
        "df = pd.read_csv(dataset_file)\n",
        "df.shape"
      ]
    },
    {
      "cell_type": "code",
      "execution_count": 5,
      "metadata": {
        "colab": {
          "base_uri": "https://localhost:8080/",
          "height": 488
        },
        "id": "3SUGKjcPlPU6",
        "outputId": "2620d8e7-155f-4bf3-ef2d-50bea981c87d"
      },
      "outputs": [
        {
          "output_type": "execute_result",
          "data": {
            "text/plain": [
              "      age_group  age  sex  on_thyroxine  query_on_thyroxine  \\\n",
              "0           1.0   18    0             1                   0   \n",
              "1           1.0   18    1             0                   0   \n",
              "2           1.0   18    0             1                   0   \n",
              "3           1.0   18    0             0                   0   \n",
              "4           1.0   18    1             0                   0   \n",
              "...         ...  ...  ...           ...                 ...   \n",
              "8619        8.0   95    1             0                   0   \n",
              "8620        8.0   95    0             0                   0   \n",
              "8621        8.0   97    1             0                   0   \n",
              "8622        8.0   97    1             0                   0   \n",
              "8623        8.0   97    0             0                   0   \n",
              "\n",
              "      on_antithyroid_meds  sick  pregnant  thyroid_surgery  I131_treatment  \\\n",
              "0                       0     0         0                0               0   \n",
              "1                       0     0         0                0               0   \n",
              "2                       0     0         0                0               0   \n",
              "3                       0     0         0                0               0   \n",
              "4                       0     0         0                0               0   \n",
              "...                   ...   ...       ...              ...             ...   \n",
              "8619                    0     0         0                0               0   \n",
              "8620                    0     0         0                0               0   \n",
              "8621                    0     0         0                0               0   \n",
              "8622                    0     0         0                0               0   \n",
              "8623                    0     0         0                0               0   \n",
              "\n",
              "      query_hypothyroid  query_hyperthyroid  lithium  goitre  tumor  \\\n",
              "0                     1                   0        0       0      0   \n",
              "1                     1                   0        0       0      0   \n",
              "2                     0                   0        0       0      0   \n",
              "3                     0                   0        0       0      0   \n",
              "4                     1                   0        0       0      0   \n",
              "...                 ...                 ...      ...     ...    ...   \n",
              "8619                  0                   0        0       0      0   \n",
              "8620                  0                   0        0       0      0   \n",
              "8621                  0                   0        0       0      0   \n",
              "8622                  0                   0        0       0      0   \n",
              "8623                  0                   0        0       0      0   \n",
              "\n",
              "      hypopituitary  psych  TSH_measured   TSH  T3_measured   T3  \\\n",
              "0                 0      0             1  2.50            1  2.7   \n",
              "1                 0      0             1  0.25            1  2.5   \n",
              "2                 0      0             1  0.33            0  0.0   \n",
              "3                 0      0             0  0.00            1  2.4   \n",
              "4                 0      0             1  1.50            0  0.0   \n",
              "...             ...    ...           ...   ...          ...  ...   \n",
              "8619              0      0             1  1.60            0  0.0   \n",
              "8620              0      0             1  4.40            1  0.4   \n",
              "8621              0      0             1  3.20            1  1.3   \n",
              "8622              0      0             1  2.90            1  0.5   \n",
              "8623              0      0             1  2.30            1  1.8   \n",
              "\n",
              "      TT4_measured    TT4  FTI_measured    FTI  TBG_measured   TBG  \\\n",
              "0                1  131.0             1  149.0             0   0.0   \n",
              "1                1  269.0             1  165.0             0   0.0   \n",
              "2                1  154.0             1  179.0             0   0.0   \n",
              "3                1   86.0             1   85.0             0   0.0   \n",
              "4                1  116.0             1  111.0             0   0.0   \n",
              "...            ...    ...           ...    ...           ...   ...   \n",
              "8619             1   98.0             1  108.0             0   0.0   \n",
              "8620             1   54.0             1   87.0             0   0.0   \n",
              "8621             1   84.0             1   87.0             0   0.0   \n",
              "8622             1  101.0             1  158.0             0   0.0   \n",
              "8623             1   93.0             1  104.0             1  29.0   \n",
              "\n",
              "     diagnosis_name  avg_value  \n",
              "0              none        0.0  \n",
              "1              none        0.0  \n",
              "2              none        0.0  \n",
              "3              none        0.0  \n",
              "4              none        0.0  \n",
              "...             ...        ...  \n",
              "8619           none        0.0  \n",
              "8620           none        0.0  \n",
              "8621           none        0.0  \n",
              "8622           none        0.0  \n",
              "8623           none       29.0  \n",
              "\n",
              "[8624 rows x 29 columns]"
            ],
            "text/html": [
              "\n",
              "  <div id=\"df-7d7f729b-3b3a-4791-a34c-28c4578a5b29\">\n",
              "    <div class=\"colab-df-container\">\n",
              "      <div>\n",
              "<style scoped>\n",
              "    .dataframe tbody tr th:only-of-type {\n",
              "        vertical-align: middle;\n",
              "    }\n",
              "\n",
              "    .dataframe tbody tr th {\n",
              "        vertical-align: top;\n",
              "    }\n",
              "\n",
              "    .dataframe thead th {\n",
              "        text-align: right;\n",
              "    }\n",
              "</style>\n",
              "<table border=\"1\" class=\"dataframe\">\n",
              "  <thead>\n",
              "    <tr style=\"text-align: right;\">\n",
              "      <th></th>\n",
              "      <th>age_group</th>\n",
              "      <th>age</th>\n",
              "      <th>sex</th>\n",
              "      <th>on_thyroxine</th>\n",
              "      <th>query_on_thyroxine</th>\n",
              "      <th>on_antithyroid_meds</th>\n",
              "      <th>sick</th>\n",
              "      <th>pregnant</th>\n",
              "      <th>thyroid_surgery</th>\n",
              "      <th>I131_treatment</th>\n",
              "      <th>query_hypothyroid</th>\n",
              "      <th>query_hyperthyroid</th>\n",
              "      <th>lithium</th>\n",
              "      <th>goitre</th>\n",
              "      <th>tumor</th>\n",
              "      <th>hypopituitary</th>\n",
              "      <th>psych</th>\n",
              "      <th>TSH_measured</th>\n",
              "      <th>TSH</th>\n",
              "      <th>T3_measured</th>\n",
              "      <th>T3</th>\n",
              "      <th>TT4_measured</th>\n",
              "      <th>TT4</th>\n",
              "      <th>FTI_measured</th>\n",
              "      <th>FTI</th>\n",
              "      <th>TBG_measured</th>\n",
              "      <th>TBG</th>\n",
              "      <th>diagnosis_name</th>\n",
              "      <th>avg_value</th>\n",
              "    </tr>\n",
              "  </thead>\n",
              "  <tbody>\n",
              "    <tr>\n",
              "      <th>0</th>\n",
              "      <td>1.0</td>\n",
              "      <td>18</td>\n",
              "      <td>0</td>\n",
              "      <td>1</td>\n",
              "      <td>0</td>\n",
              "      <td>0</td>\n",
              "      <td>0</td>\n",
              "      <td>0</td>\n",
              "      <td>0</td>\n",
              "      <td>0</td>\n",
              "      <td>1</td>\n",
              "      <td>0</td>\n",
              "      <td>0</td>\n",
              "      <td>0</td>\n",
              "      <td>0</td>\n",
              "      <td>0</td>\n",
              "      <td>0</td>\n",
              "      <td>1</td>\n",
              "      <td>2.50</td>\n",
              "      <td>1</td>\n",
              "      <td>2.7</td>\n",
              "      <td>1</td>\n",
              "      <td>131.0</td>\n",
              "      <td>1</td>\n",
              "      <td>149.0</td>\n",
              "      <td>0</td>\n",
              "      <td>0.0</td>\n",
              "      <td>none</td>\n",
              "      <td>0.0</td>\n",
              "    </tr>\n",
              "    <tr>\n",
              "      <th>1</th>\n",
              "      <td>1.0</td>\n",
              "      <td>18</td>\n",
              "      <td>1</td>\n",
              "      <td>0</td>\n",
              "      <td>0</td>\n",
              "      <td>0</td>\n",
              "      <td>0</td>\n",
              "      <td>0</td>\n",
              "      <td>0</td>\n",
              "      <td>0</td>\n",
              "      <td>1</td>\n",
              "      <td>0</td>\n",
              "      <td>0</td>\n",
              "      <td>0</td>\n",
              "      <td>0</td>\n",
              "      <td>0</td>\n",
              "      <td>0</td>\n",
              "      <td>1</td>\n",
              "      <td>0.25</td>\n",
              "      <td>1</td>\n",
              "      <td>2.5</td>\n",
              "      <td>1</td>\n",
              "      <td>269.0</td>\n",
              "      <td>1</td>\n",
              "      <td>165.0</td>\n",
              "      <td>0</td>\n",
              "      <td>0.0</td>\n",
              "      <td>none</td>\n",
              "      <td>0.0</td>\n",
              "    </tr>\n",
              "    <tr>\n",
              "      <th>2</th>\n",
              "      <td>1.0</td>\n",
              "      <td>18</td>\n",
              "      <td>0</td>\n",
              "      <td>1</td>\n",
              "      <td>0</td>\n",
              "      <td>0</td>\n",
              "      <td>0</td>\n",
              "      <td>0</td>\n",
              "      <td>0</td>\n",
              "      <td>0</td>\n",
              "      <td>0</td>\n",
              "      <td>0</td>\n",
              "      <td>0</td>\n",
              "      <td>0</td>\n",
              "      <td>0</td>\n",
              "      <td>0</td>\n",
              "      <td>0</td>\n",
              "      <td>1</td>\n",
              "      <td>0.33</td>\n",
              "      <td>0</td>\n",
              "      <td>0.0</td>\n",
              "      <td>1</td>\n",
              "      <td>154.0</td>\n",
              "      <td>1</td>\n",
              "      <td>179.0</td>\n",
              "      <td>0</td>\n",
              "      <td>0.0</td>\n",
              "      <td>none</td>\n",
              "      <td>0.0</td>\n",
              "    </tr>\n",
              "    <tr>\n",
              "      <th>3</th>\n",
              "      <td>1.0</td>\n",
              "      <td>18</td>\n",
              "      <td>0</td>\n",
              "      <td>0</td>\n",
              "      <td>0</td>\n",
              "      <td>0</td>\n",
              "      <td>0</td>\n",
              "      <td>0</td>\n",
              "      <td>0</td>\n",
              "      <td>0</td>\n",
              "      <td>0</td>\n",
              "      <td>0</td>\n",
              "      <td>0</td>\n",
              "      <td>0</td>\n",
              "      <td>0</td>\n",
              "      <td>0</td>\n",
              "      <td>0</td>\n",
              "      <td>0</td>\n",
              "      <td>0.00</td>\n",
              "      <td>1</td>\n",
              "      <td>2.4</td>\n",
              "      <td>1</td>\n",
              "      <td>86.0</td>\n",
              "      <td>1</td>\n",
              "      <td>85.0</td>\n",
              "      <td>0</td>\n",
              "      <td>0.0</td>\n",
              "      <td>none</td>\n",
              "      <td>0.0</td>\n",
              "    </tr>\n",
              "    <tr>\n",
              "      <th>4</th>\n",
              "      <td>1.0</td>\n",
              "      <td>18</td>\n",
              "      <td>1</td>\n",
              "      <td>0</td>\n",
              "      <td>0</td>\n",
              "      <td>0</td>\n",
              "      <td>0</td>\n",
              "      <td>0</td>\n",
              "      <td>0</td>\n",
              "      <td>0</td>\n",
              "      <td>1</td>\n",
              "      <td>0</td>\n",
              "      <td>0</td>\n",
              "      <td>0</td>\n",
              "      <td>0</td>\n",
              "      <td>0</td>\n",
              "      <td>0</td>\n",
              "      <td>1</td>\n",
              "      <td>1.50</td>\n",
              "      <td>0</td>\n",
              "      <td>0.0</td>\n",
              "      <td>1</td>\n",
              "      <td>116.0</td>\n",
              "      <td>1</td>\n",
              "      <td>111.0</td>\n",
              "      <td>0</td>\n",
              "      <td>0.0</td>\n",
              "      <td>none</td>\n",
              "      <td>0.0</td>\n",
              "    </tr>\n",
              "    <tr>\n",
              "      <th>...</th>\n",
              "      <td>...</td>\n",
              "      <td>...</td>\n",
              "      <td>...</td>\n",
              "      <td>...</td>\n",
              "      <td>...</td>\n",
              "      <td>...</td>\n",
              "      <td>...</td>\n",
              "      <td>...</td>\n",
              "      <td>...</td>\n",
              "      <td>...</td>\n",
              "      <td>...</td>\n",
              "      <td>...</td>\n",
              "      <td>...</td>\n",
              "      <td>...</td>\n",
              "      <td>...</td>\n",
              "      <td>...</td>\n",
              "      <td>...</td>\n",
              "      <td>...</td>\n",
              "      <td>...</td>\n",
              "      <td>...</td>\n",
              "      <td>...</td>\n",
              "      <td>...</td>\n",
              "      <td>...</td>\n",
              "      <td>...</td>\n",
              "      <td>...</td>\n",
              "      <td>...</td>\n",
              "      <td>...</td>\n",
              "      <td>...</td>\n",
              "      <td>...</td>\n",
              "    </tr>\n",
              "    <tr>\n",
              "      <th>8619</th>\n",
              "      <td>8.0</td>\n",
              "      <td>95</td>\n",
              "      <td>1</td>\n",
              "      <td>0</td>\n",
              "      <td>0</td>\n",
              "      <td>0</td>\n",
              "      <td>0</td>\n",
              "      <td>0</td>\n",
              "      <td>0</td>\n",
              "      <td>0</td>\n",
              "      <td>0</td>\n",
              "      <td>0</td>\n",
              "      <td>0</td>\n",
              "      <td>0</td>\n",
              "      <td>0</td>\n",
              "      <td>0</td>\n",
              "      <td>0</td>\n",
              "      <td>1</td>\n",
              "      <td>1.60</td>\n",
              "      <td>0</td>\n",
              "      <td>0.0</td>\n",
              "      <td>1</td>\n",
              "      <td>98.0</td>\n",
              "      <td>1</td>\n",
              "      <td>108.0</td>\n",
              "      <td>0</td>\n",
              "      <td>0.0</td>\n",
              "      <td>none</td>\n",
              "      <td>0.0</td>\n",
              "    </tr>\n",
              "    <tr>\n",
              "      <th>8620</th>\n",
              "      <td>8.0</td>\n",
              "      <td>95</td>\n",
              "      <td>0</td>\n",
              "      <td>0</td>\n",
              "      <td>0</td>\n",
              "      <td>0</td>\n",
              "      <td>0</td>\n",
              "      <td>0</td>\n",
              "      <td>0</td>\n",
              "      <td>0</td>\n",
              "      <td>0</td>\n",
              "      <td>0</td>\n",
              "      <td>0</td>\n",
              "      <td>0</td>\n",
              "      <td>0</td>\n",
              "      <td>0</td>\n",
              "      <td>0</td>\n",
              "      <td>1</td>\n",
              "      <td>4.40</td>\n",
              "      <td>1</td>\n",
              "      <td>0.4</td>\n",
              "      <td>1</td>\n",
              "      <td>54.0</td>\n",
              "      <td>1</td>\n",
              "      <td>87.0</td>\n",
              "      <td>0</td>\n",
              "      <td>0.0</td>\n",
              "      <td>none</td>\n",
              "      <td>0.0</td>\n",
              "    </tr>\n",
              "    <tr>\n",
              "      <th>8621</th>\n",
              "      <td>8.0</td>\n",
              "      <td>97</td>\n",
              "      <td>1</td>\n",
              "      <td>0</td>\n",
              "      <td>0</td>\n",
              "      <td>0</td>\n",
              "      <td>0</td>\n",
              "      <td>0</td>\n",
              "      <td>0</td>\n",
              "      <td>0</td>\n",
              "      <td>0</td>\n",
              "      <td>0</td>\n",
              "      <td>0</td>\n",
              "      <td>0</td>\n",
              "      <td>0</td>\n",
              "      <td>0</td>\n",
              "      <td>0</td>\n",
              "      <td>1</td>\n",
              "      <td>3.20</td>\n",
              "      <td>1</td>\n",
              "      <td>1.3</td>\n",
              "      <td>1</td>\n",
              "      <td>84.0</td>\n",
              "      <td>1</td>\n",
              "      <td>87.0</td>\n",
              "      <td>0</td>\n",
              "      <td>0.0</td>\n",
              "      <td>none</td>\n",
              "      <td>0.0</td>\n",
              "    </tr>\n",
              "    <tr>\n",
              "      <th>8622</th>\n",
              "      <td>8.0</td>\n",
              "      <td>97</td>\n",
              "      <td>1</td>\n",
              "      <td>0</td>\n",
              "      <td>0</td>\n",
              "      <td>0</td>\n",
              "      <td>0</td>\n",
              "      <td>0</td>\n",
              "      <td>0</td>\n",
              "      <td>0</td>\n",
              "      <td>0</td>\n",
              "      <td>0</td>\n",
              "      <td>0</td>\n",
              "      <td>0</td>\n",
              "      <td>0</td>\n",
              "      <td>0</td>\n",
              "      <td>0</td>\n",
              "      <td>1</td>\n",
              "      <td>2.90</td>\n",
              "      <td>1</td>\n",
              "      <td>0.5</td>\n",
              "      <td>1</td>\n",
              "      <td>101.0</td>\n",
              "      <td>1</td>\n",
              "      <td>158.0</td>\n",
              "      <td>0</td>\n",
              "      <td>0.0</td>\n",
              "      <td>none</td>\n",
              "      <td>0.0</td>\n",
              "    </tr>\n",
              "    <tr>\n",
              "      <th>8623</th>\n",
              "      <td>8.0</td>\n",
              "      <td>97</td>\n",
              "      <td>0</td>\n",
              "      <td>0</td>\n",
              "      <td>0</td>\n",
              "      <td>0</td>\n",
              "      <td>0</td>\n",
              "      <td>0</td>\n",
              "      <td>0</td>\n",
              "      <td>0</td>\n",
              "      <td>0</td>\n",
              "      <td>0</td>\n",
              "      <td>0</td>\n",
              "      <td>0</td>\n",
              "      <td>0</td>\n",
              "      <td>0</td>\n",
              "      <td>0</td>\n",
              "      <td>1</td>\n",
              "      <td>2.30</td>\n",
              "      <td>1</td>\n",
              "      <td>1.8</td>\n",
              "      <td>1</td>\n",
              "      <td>93.0</td>\n",
              "      <td>1</td>\n",
              "      <td>104.0</td>\n",
              "      <td>1</td>\n",
              "      <td>29.0</td>\n",
              "      <td>none</td>\n",
              "      <td>29.0</td>\n",
              "    </tr>\n",
              "  </tbody>\n",
              "</table>\n",
              "<p>8624 rows × 29 columns</p>\n",
              "</div>\n",
              "      <button class=\"colab-df-convert\" onclick=\"convertToInteractive('df-7d7f729b-3b3a-4791-a34c-28c4578a5b29')\"\n",
              "              title=\"Convert this dataframe to an interactive table.\"\n",
              "              style=\"display:none;\">\n",
              "        \n",
              "  <svg xmlns=\"http://www.w3.org/2000/svg\" height=\"24px\"viewBox=\"0 0 24 24\"\n",
              "       width=\"24px\">\n",
              "    <path d=\"M0 0h24v24H0V0z\" fill=\"none\"/>\n",
              "    <path d=\"M18.56 5.44l.94 2.06.94-2.06 2.06-.94-2.06-.94-.94-2.06-.94 2.06-2.06.94zm-11 1L8.5 8.5l.94-2.06 2.06-.94-2.06-.94L8.5 2.5l-.94 2.06-2.06.94zm10 10l.94 2.06.94-2.06 2.06-.94-2.06-.94-.94-2.06-.94 2.06-2.06.94z\"/><path d=\"M17.41 7.96l-1.37-1.37c-.4-.4-.92-.59-1.43-.59-.52 0-1.04.2-1.43.59L10.3 9.45l-7.72 7.72c-.78.78-.78 2.05 0 2.83L4 21.41c.39.39.9.59 1.41.59.51 0 1.02-.2 1.41-.59l7.78-7.78 2.81-2.81c.8-.78.8-2.07 0-2.86zM5.41 20L4 18.59l7.72-7.72 1.47 1.35L5.41 20z\"/>\n",
              "  </svg>\n",
              "      </button>\n",
              "      \n",
              "  <style>\n",
              "    .colab-df-container {\n",
              "      display:flex;\n",
              "      flex-wrap:wrap;\n",
              "      gap: 12px;\n",
              "    }\n",
              "\n",
              "    .colab-df-convert {\n",
              "      background-color: #E8F0FE;\n",
              "      border: none;\n",
              "      border-radius: 50%;\n",
              "      cursor: pointer;\n",
              "      display: none;\n",
              "      fill: #1967D2;\n",
              "      height: 32px;\n",
              "      padding: 0 0 0 0;\n",
              "      width: 32px;\n",
              "    }\n",
              "\n",
              "    .colab-df-convert:hover {\n",
              "      background-color: #E2EBFA;\n",
              "      box-shadow: 0px 1px 2px rgba(60, 64, 67, 0.3), 0px 1px 3px 1px rgba(60, 64, 67, 0.15);\n",
              "      fill: #174EA6;\n",
              "    }\n",
              "\n",
              "    [theme=dark] .colab-df-convert {\n",
              "      background-color: #3B4455;\n",
              "      fill: #D2E3FC;\n",
              "    }\n",
              "\n",
              "    [theme=dark] .colab-df-convert:hover {\n",
              "      background-color: #434B5C;\n",
              "      box-shadow: 0px 1px 3px 1px rgba(0, 0, 0, 0.15);\n",
              "      filter: drop-shadow(0px 1px 2px rgba(0, 0, 0, 0.3));\n",
              "      fill: #FFFFFF;\n",
              "    }\n",
              "  </style>\n",
              "\n",
              "      <script>\n",
              "        const buttonEl =\n",
              "          document.querySelector('#df-7d7f729b-3b3a-4791-a34c-28c4578a5b29 button.colab-df-convert');\n",
              "        buttonEl.style.display =\n",
              "          google.colab.kernel.accessAllowed ? 'block' : 'none';\n",
              "\n",
              "        async function convertToInteractive(key) {\n",
              "          const element = document.querySelector('#df-7d7f729b-3b3a-4791-a34c-28c4578a5b29');\n",
              "          const dataTable =\n",
              "            await google.colab.kernel.invokeFunction('convertToInteractive',\n",
              "                                                     [key], {});\n",
              "          if (!dataTable) return;\n",
              "\n",
              "          const docLinkHtml = 'Like what you see? Visit the ' +\n",
              "            '<a target=\"_blank\" href=https://colab.research.google.com/notebooks/data_table.ipynb>data table notebook</a>'\n",
              "            + ' to learn more about interactive tables.';\n",
              "          element.innerHTML = '';\n",
              "          dataTable['output_type'] = 'display_data';\n",
              "          await google.colab.output.renderOutput(dataTable, element);\n",
              "          const docLink = document.createElement('div');\n",
              "          docLink.innerHTML = docLinkHtml;\n",
              "          element.appendChild(docLink);\n",
              "        }\n",
              "      </script>\n",
              "    </div>\n",
              "  </div>\n",
              "  "
            ]
          },
          "metadata": {},
          "execution_count": 5
        }
      ],
      "source": [
        "pd.set_option('display.max_columns', None)\n",
        "df"
      ]
    },
    {
      "cell_type": "code",
      "execution_count": 6,
      "metadata": {
        "id": "PBIALa5LlyVY"
      },
      "outputs": [],
      "source": [
        "##features extracted for the models\n",
        "\n",
        "##X_df = df.loc[:,['age', 'sex', 'TSH', 'T3', 'TT4', 'FTI', 'TBG']]\n",
        "X_df = df.drop(['thyroid_surgery', 'age_group', 'diagnosis_name', 'avg_value'], axis = 1)\n",
        "y_df = df['thyroid_surgery']"
      ]
    },
    {
      "cell_type": "code",
      "execution_count": 7,
      "metadata": {
        "id": "VlOdjghsmqPI"
      },
      "outputs": [],
      "source": [
        "##splitting the data into train/test sets\n",
        "\n",
        "X_train, X_test, y_train, y_test = train_test_split(X_df, y_df, test_size=0.2, random_state=50)"
      ]
    },
    {
      "cell_type": "code",
      "execution_count": 8,
      "metadata": {
        "id": "brfj27TTjC3S"
      },
      "outputs": [],
      "source": [
        "##conducting random oversample of the data\n",
        "\n",
        "ros = RandomOverSampler()\n",
        "X_resampled, y_resampled = ros.fit_resample(X_train, y_train)\n",
        "\n",
        "X_train_resampled, X_test_resampled, y_train_resampled, y_test_resampled = train_test_split(X_resampled, y_resampled, test_size = 0.2, random_state = 50)"
      ]
    },
    {
      "cell_type": "code",
      "execution_count": 9,
      "metadata": {
        "colab": {
          "base_uri": "https://localhost:8080/"
        },
        "id": "3FsMidzCndep",
        "outputId": "5d5bfd05-bfb3-497b-876f-7dd5f4db713a"
      },
      "outputs": [
        {
          "output_type": "execute_result",
          "data": {
            "text/plain": [
              "((6899, 25), (1725, 25))"
            ]
          },
          "metadata": {},
          "execution_count": 9
        }
      ],
      "source": [
        "X_train.shape, X_test.shape"
      ]
    },
    {
      "cell_type": "code",
      "execution_count": 10,
      "metadata": {
        "colab": {
          "base_uri": "https://localhost:8080/"
        },
        "id": "__3ifabxnfdw",
        "outputId": "ccb511fd-ef6a-4508-b18c-8357024fbe87"
      },
      "outputs": [
        {
          "output_type": "execute_result",
          "data": {
            "text/plain": [
              "(Counter({0: 6807, 1: 92}), Counter({0: 1690, 1: 35}))"
            ]
          },
          "metadata": {},
          "execution_count": 10
        }
      ],
      "source": [
        "Counter(y_train), Counter(y_test)"
      ]
    },
    {
      "cell_type": "code",
      "execution_count": 11,
      "metadata": {
        "colab": {
          "base_uri": "https://localhost:8080/",
          "height": 75
        },
        "id": "X29UYDn2nqwZ",
        "outputId": "0d4d99c6-c116-44d7-88d8-22f81e3d8772"
      },
      "outputs": [
        {
          "output_type": "execute_result",
          "data": {
            "text/plain": [
              "LogisticRegression(max_iter=5000)"
            ],
            "text/html": [
              "<style>#sk-container-id-1 {color: black;background-color: white;}#sk-container-id-1 pre{padding: 0;}#sk-container-id-1 div.sk-toggleable {background-color: white;}#sk-container-id-1 label.sk-toggleable__label {cursor: pointer;display: block;width: 100%;margin-bottom: 0;padding: 0.3em;box-sizing: border-box;text-align: center;}#sk-container-id-1 label.sk-toggleable__label-arrow:before {content: \"▸\";float: left;margin-right: 0.25em;color: #696969;}#sk-container-id-1 label.sk-toggleable__label-arrow:hover:before {color: black;}#sk-container-id-1 div.sk-estimator:hover label.sk-toggleable__label-arrow:before {color: black;}#sk-container-id-1 div.sk-toggleable__content {max-height: 0;max-width: 0;overflow: hidden;text-align: left;background-color: #f0f8ff;}#sk-container-id-1 div.sk-toggleable__content pre {margin: 0.2em;color: black;border-radius: 0.25em;background-color: #f0f8ff;}#sk-container-id-1 input.sk-toggleable__control:checked~div.sk-toggleable__content {max-height: 200px;max-width: 100%;overflow: auto;}#sk-container-id-1 input.sk-toggleable__control:checked~label.sk-toggleable__label-arrow:before {content: \"▾\";}#sk-container-id-1 div.sk-estimator input.sk-toggleable__control:checked~label.sk-toggleable__label {background-color: #d4ebff;}#sk-container-id-1 div.sk-label input.sk-toggleable__control:checked~label.sk-toggleable__label {background-color: #d4ebff;}#sk-container-id-1 input.sk-hidden--visually {border: 0;clip: rect(1px 1px 1px 1px);clip: rect(1px, 1px, 1px, 1px);height: 1px;margin: -1px;overflow: hidden;padding: 0;position: absolute;width: 1px;}#sk-container-id-1 div.sk-estimator {font-family: monospace;background-color: #f0f8ff;border: 1px dotted black;border-radius: 0.25em;box-sizing: border-box;margin-bottom: 0.5em;}#sk-container-id-1 div.sk-estimator:hover {background-color: #d4ebff;}#sk-container-id-1 div.sk-parallel-item::after {content: \"\";width: 100%;border-bottom: 1px solid gray;flex-grow: 1;}#sk-container-id-1 div.sk-label:hover label.sk-toggleable__label {background-color: #d4ebff;}#sk-container-id-1 div.sk-serial::before {content: \"\";position: absolute;border-left: 1px solid gray;box-sizing: border-box;top: 0;bottom: 0;left: 50%;z-index: 0;}#sk-container-id-1 div.sk-serial {display: flex;flex-direction: column;align-items: center;background-color: white;padding-right: 0.2em;padding-left: 0.2em;position: relative;}#sk-container-id-1 div.sk-item {position: relative;z-index: 1;}#sk-container-id-1 div.sk-parallel {display: flex;align-items: stretch;justify-content: center;background-color: white;position: relative;}#sk-container-id-1 div.sk-item::before, #sk-container-id-1 div.sk-parallel-item::before {content: \"\";position: absolute;border-left: 1px solid gray;box-sizing: border-box;top: 0;bottom: 0;left: 50%;z-index: -1;}#sk-container-id-1 div.sk-parallel-item {display: flex;flex-direction: column;z-index: 1;position: relative;background-color: white;}#sk-container-id-1 div.sk-parallel-item:first-child::after {align-self: flex-end;width: 50%;}#sk-container-id-1 div.sk-parallel-item:last-child::after {align-self: flex-start;width: 50%;}#sk-container-id-1 div.sk-parallel-item:only-child::after {width: 0;}#sk-container-id-1 div.sk-dashed-wrapped {border: 1px dashed gray;margin: 0 0.4em 0.5em 0.4em;box-sizing: border-box;padding-bottom: 0.4em;background-color: white;}#sk-container-id-1 div.sk-label label {font-family: monospace;font-weight: bold;display: inline-block;line-height: 1.2em;}#sk-container-id-1 div.sk-label-container {text-align: center;}#sk-container-id-1 div.sk-container {/* jupyter's `normalize.less` sets `[hidden] { display: none; }` but bootstrap.min.css set `[hidden] { display: none !important; }` so we also need the `!important` here to be able to override the default hidden behavior on the sphinx rendered scikit-learn.org. See: https://github.com/scikit-learn/scikit-learn/issues/21755 */display: inline-block !important;position: relative;}#sk-container-id-1 div.sk-text-repr-fallback {display: none;}</style><div id=\"sk-container-id-1\" class=\"sk-top-container\"><div class=\"sk-text-repr-fallback\"><pre>LogisticRegression(max_iter=5000)</pre><b>In a Jupyter environment, please rerun this cell to show the HTML representation or trust the notebook. <br />On GitHub, the HTML representation is unable to render, please try loading this page with nbviewer.org.</b></div><div class=\"sk-container\" hidden><div class=\"sk-item\"><div class=\"sk-estimator sk-toggleable\"><input class=\"sk-toggleable__control sk-hidden--visually\" id=\"sk-estimator-id-1\" type=\"checkbox\" checked><label for=\"sk-estimator-id-1\" class=\"sk-toggleable__label sk-toggleable__label-arrow\">LogisticRegression</label><div class=\"sk-toggleable__content\"><pre>LogisticRegression(max_iter=5000)</pre></div></div></div></div></div>"
            ]
          },
          "metadata": {},
          "execution_count": 11
        }
      ],
      "source": [
        "##logistic regression test for random over sample\n",
        "\n",
        "lr_model = LogisticRegression(max_iter = 5000)\n",
        "lr_model.fit(X_train, y_train)"
      ]
    },
    {
      "cell_type": "code",
      "execution_count": 12,
      "metadata": {
        "colab": {
          "base_uri": "https://localhost:8080/"
        },
        "id": "8c-t0Xb3njuE",
        "outputId": "df1ff276-362f-41ff-cb67-b1aed65720e4"
      },
      "outputs": [
        {
          "output_type": "stream",
          "name": "stdout",
          "text": [
            "Accuracy: 0.9797101449275363\n"
          ]
        }
      ],
      "source": [
        "y_pred = lr_model.predict(X_test)\n",
        "\n",
        "accuracy = lr_model.score(X_test, y_test)\n",
        "print('Accuracy:', accuracy)"
      ]
    },
    {
      "cell_type": "code",
      "execution_count": 13,
      "metadata": {
        "colab": {
          "base_uri": "https://localhost:8080/"
        },
        "id": "eElOVMgZnu1R",
        "outputId": "981988c1-e9fb-4e51-aa99-d2ababe36e3c"
      },
      "outputs": [
        {
          "output_type": "stream",
          "name": "stdout",
          "text": [
            "              precision    recall  f1-score   support\n",
            "\n",
            "           0       0.98      1.00      0.99      1690\n",
            "           1       0.00      0.00      0.00        35\n",
            "\n",
            "    accuracy                           0.98      1725\n",
            "   macro avg       0.49      0.50      0.49      1725\n",
            "weighted avg       0.96      0.98      0.97      1725\n",
            "\n"
          ]
        },
        {
          "output_type": "stream",
          "name": "stderr",
          "text": [
            "/usr/local/lib/python3.10/dist-packages/sklearn/metrics/_classification.py:1344: UndefinedMetricWarning: Precision and F-score are ill-defined and being set to 0.0 in labels with no predicted samples. Use `zero_division` parameter to control this behavior.\n",
            "  _warn_prf(average, modifier, msg_start, len(result))\n",
            "/usr/local/lib/python3.10/dist-packages/sklearn/metrics/_classification.py:1344: UndefinedMetricWarning: Precision and F-score are ill-defined and being set to 0.0 in labels with no predicted samples. Use `zero_division` parameter to control this behavior.\n",
            "  _warn_prf(average, modifier, msg_start, len(result))\n",
            "/usr/local/lib/python3.10/dist-packages/sklearn/metrics/_classification.py:1344: UndefinedMetricWarning: Precision and F-score are ill-defined and being set to 0.0 in labels with no predicted samples. Use `zero_division` parameter to control this behavior.\n",
            "  _warn_prf(average, modifier, msg_start, len(result))\n"
          ]
        }
      ],
      "source": [
        "print(classification_report(y_test, y_pred))"
      ]
    },
    {
      "cell_type": "code",
      "execution_count": 14,
      "metadata": {
        "colab": {
          "base_uri": "https://localhost:8080/",
          "height": 484
        },
        "id": "M0OnaXN8J3VL",
        "outputId": "4f402d8c-b51f-4d5f-905a-4e1a9478fcb0"
      },
      "outputs": [
        {
          "output_type": "execute_result",
          "data": {
            "text/plain": [
              "(<Figure size 640x480 with 1 Axes>,\n",
              " <Axes: xlabel='predicted label', ylabel='true label'>)"
            ]
          },
          "metadata": {},
          "execution_count": 14
        },
        {
          "output_type": "display_data",
          "data": {
            "text/plain": [
              "<Figure size 640x480 with 1 Axes>"
            ],
            "image/png": "[encoded data removed]"
          },
          "metadata": {}
        }
      ],
      "source": [
        "#performing a confusion matrix on the logistic regression\n",
        "\n",
        "plot_confusion_matrix(confusion_matrix(y_test, y_pred), \n",
        "                      show_absolute = True, \n",
        "                      show_normed = True,\n",
        "                      cmap = 'Reds')"
      ]
    },
    {
      "cell_type": "code",
      "execution_count": 15,
      "metadata": {
        "colab": {
          "base_uri": "https://localhost:8080/",
          "height": 75
        },
        "id": "1q52JlSKqCp6",
        "outputId": "d8f787e8-3285-477e-e726-e5a270a2b1ea"
      },
      "outputs": [
        {
          "output_type": "execute_result",
          "data": {
            "text/plain": [
              "RandomForestClassifier(n_estimators=50, random_state=25)"
            ],
            "text/html": [
              "<style>#sk-container-id-2 {color: black;background-color: white;}#sk-container-id-2 pre{padding: 0;}#sk-container-id-2 div.sk-toggleable {background-color: white;}#sk-container-id-2 label.sk-toggleable__label {cursor: pointer;display: block;width: 100%;margin-bottom: 0;padding: 0.3em;box-sizing: border-box;text-align: center;}#sk-container-id-2 label.sk-toggleable__label-arrow:before {content: \"▸\";float: left;margin-right: 0.25em;color: #696969;}#sk-container-id-2 label.sk-toggleable__label-arrow:hover:before {color: black;}#sk-container-id-2 div.sk-estimator:hover label.sk-toggleable__label-arrow:before {color: black;}#sk-container-id-2 div.sk-toggleable__content {max-height: 0;max-width: 0;overflow: hidden;text-align: left;background-color: #f0f8ff;}#sk-container-id-2 div.sk-toggleable__content pre {margin: 0.2em;color: black;border-radius: 0.25em;background-color: #f0f8ff;}#sk-container-id-2 input.sk-toggleable__control:checked~div.sk-toggleable__content {max-height: 200px;max-width: 100%;overflow: auto;}#sk-container-id-2 input.sk-toggleable__control:checked~label.sk-toggleable__label-arrow:before {content: \"▾\";}#sk-container-id-2 div.sk-estimator input.sk-toggleable__control:checked~label.sk-toggleable__label {background-color: #d4ebff;}#sk-container-id-2 div.sk-label input.sk-toggleable__control:checked~label.sk-toggleable__label {background-color: #d4ebff;}#sk-container-id-2 input.sk-hidden--visually {border: 0;clip: rect(1px 1px 1px 1px);clip: rect(1px, 1px, 1px, 1px);height: 1px;margin: -1px;overflow: hidden;padding: 0;position: absolute;width: 1px;}#sk-container-id-2 div.sk-estimator {font-family: monospace;background-color: #f0f8ff;border: 1px dotted black;border-radius: 0.25em;box-sizing: border-box;margin-bottom: 0.5em;}#sk-container-id-2 div.sk-estimator:hover {background-color: #d4ebff;}#sk-container-id-2 div.sk-parallel-item::after {content: \"\";width: 100%;border-bottom: 1px solid gray;flex-grow: 1;}#sk-container-id-2 div.sk-label:hover label.sk-toggleable__label {background-color: #d4ebff;}#sk-container-id-2 div.sk-serial::before {content: \"\";position: absolute;border-left: 1px solid gray;box-sizing: border-box;top: 0;bottom: 0;left: 50%;z-index: 0;}#sk-container-id-2 div.sk-serial {display: flex;flex-direction: column;align-items: center;background-color: white;padding-right: 0.2em;padding-left: 0.2em;position: relative;}#sk-container-id-2 div.sk-item {position: relative;z-index: 1;}#sk-container-id-2 div.sk-parallel {display: flex;align-items: stretch;justify-content: center;background-color: white;position: relative;}#sk-container-id-2 div.sk-item::before, #sk-container-id-2 div.sk-parallel-item::before {content: \"\";position: absolute;border-left: 1px solid gray;box-sizing: border-box;top: 0;bottom: 0;left: 50%;z-index: -1;}#sk-container-id-2 div.sk-parallel-item {display: flex;flex-direction: column;z-index: 1;position: relative;background-color: white;}#sk-container-id-2 div.sk-parallel-item:first-child::after {align-self: flex-end;width: 50%;}#sk-container-id-2 div.sk-parallel-item:last-child::after {align-self: flex-start;width: 50%;}#sk-container-id-2 div.sk-parallel-item:only-child::after {width: 0;}#sk-container-id-2 div.sk-dashed-wrapped {border: 1px dashed gray;margin: 0 0.4em 0.5em 0.4em;box-sizing: border-box;padding-bottom: 0.4em;background-color: white;}#sk-container-id-2 div.sk-label label {font-family: monospace;font-weight: bold;display: inline-block;line-height: 1.2em;}#sk-container-id-2 div.sk-label-container {text-align: center;}#sk-container-id-2 div.sk-container {/* jupyter's `normalize.less` sets `[hidden] { display: none; }` but bootstrap.min.css set `[hidden] { display: none !important; }` so we also need the `!important` here to be able to override the default hidden behavior on the sphinx rendered scikit-learn.org. See: https://github.com/scikit-learn/scikit-learn/issues/21755 */display: inline-block !important;position: relative;}#sk-container-id-2 div.sk-text-repr-fallback {display: none;}</style><div id=\"sk-container-id-2\" class=\"sk-top-container\"><div class=\"sk-text-repr-fallback\"><pre>RandomForestClassifier(n_estimators=50, random_state=25)</pre><b>In a Jupyter environment, please rerun this cell to show the HTML representation or trust the notebook. <br />On GitHub, the HTML representation is unable to render, please try loading this page with nbviewer.org.</b></div><div class=\"sk-container\" hidden><div class=\"sk-item\"><div class=\"sk-estimator sk-toggleable\"><input class=\"sk-toggleable__control sk-hidden--visually\" id=\"sk-estimator-id-2\" type=\"checkbox\" checked><label for=\"sk-estimator-id-2\" class=\"sk-toggleable__label sk-toggleable__label-arrow\">RandomForestClassifier</label><div class=\"sk-toggleable__content\"><pre>RandomForestClassifier(n_estimators=50, random_state=25)</pre></div></div></div></div></div>"
            ]
          },
          "metadata": {},
          "execution_count": 15
        }
      ],
      "source": [
        "##random forest classifier for random over sample\n",
        "\n",
        "rfc = RandomForestClassifier(n_estimators = 50, random_state = 25)\n",
        "rfc.fit(X_train, y_train)"
      ]
    },
    {
      "cell_type": "code",
      "execution_count": 16,
      "metadata": {
        "colab": {
          "base_uri": "https://localhost:8080/"
        },
        "id": "65UE8eT7qO19",
        "outputId": "cca77310-79f7-42e0-f8f3-f80801a4cd8d"
      },
      "outputs": [
        {
          "output_type": "stream",
          "name": "stdout",
          "text": [
            "Accuracy: 0.9797101449275363\n"
          ]
        }
      ],
      "source": [
        "y_pred = rfc.predict(X_test)\n",
        "\n",
        "accuracy = accuracy_score(y_test, y_pred)\n",
        "print('Accuracy:', accuracy)"
      ]
    },
    {
      "cell_type": "code",
      "execution_count": 17,
      "metadata": {
        "colab": {
          "base_uri": "https://localhost:8080/"
        },
        "id": "FxqdJP6bKd3v",
        "outputId": "e9b82971-8bac-40e4-c8cb-4e8b856027bb"
      },
      "outputs": [
        {
          "output_type": "stream",
          "name": "stdout",
          "text": [
            "              precision    recall  f1-score   support\n",
            "\n",
            "           0       0.98      1.00      0.99      1690\n",
            "           1       0.00      0.00      0.00        35\n",
            "\n",
            "    accuracy                           0.98      1725\n",
            "   macro avg       0.49      0.50      0.49      1725\n",
            "weighted avg       0.96      0.98      0.97      1725\n",
            "\n"
          ]
        },
        {
          "output_type": "stream",
          "name": "stderr",
          "text": [
            "/usr/local/lib/python3.10/dist-packages/sklearn/metrics/_classification.py:1344: UndefinedMetricWarning: Precision and F-score are ill-defined and being set to 0.0 in labels with no predicted samples. Use `zero_division` parameter to control this behavior.\n",
            "  _warn_prf(average, modifier, msg_start, len(result))\n",
            "/usr/local/lib/python3.10/dist-packages/sklearn/metrics/_classification.py:1344: UndefinedMetricWarning: Precision and F-score are ill-defined and being set to 0.0 in labels with no predicted samples. Use `zero_division` parameter to control this behavior.\n",
            "  _warn_prf(average, modifier, msg_start, len(result))\n",
            "/usr/local/lib/python3.10/dist-packages/sklearn/metrics/_classification.py:1344: UndefinedMetricWarning: Precision and F-score are ill-defined and being set to 0.0 in labels with no predicted samples. Use `zero_division` parameter to control this behavior.\n",
            "  _warn_prf(average, modifier, msg_start, len(result))\n"
          ]
        }
      ],
      "source": [
        "print(classification_report(y_test, y_pred))"
      ]
    },
    {
      "cell_type": "code",
      "execution_count": 18,
      "metadata": {
        "colab": {
          "base_uri": "https://localhost:8080/",
          "height": 484
        },
        "id": "SZIlhbZjKglg",
        "outputId": "59518bd7-8c21-487b-ca41-2ce2ff36c950"
      },
      "outputs": [
        {
          "output_type": "execute_result",
          "data": {
            "text/plain": [
              "(<Figure size 640x480 with 1 Axes>,\n",
              " <Axes: xlabel='predicted label', ylabel='true label'>)"
            ]
          },
          "metadata": {},
          "execution_count": 18
        },
        {
          "output_type": "display_data",
          "data": {
            "text/plain": [
              "<Figure size 640x480 with 1 Axes>"
            ],
            "image/png": "[encoded data removed]"
          },
          "metadata": {}
        }
      ],
      "source": [
        "#performing a confusion matrix on the random forest\n",
        "\n",
        "plot_confusion_matrix(confusion_matrix(y_test, y_pred), \n",
        "                      show_absolute = True, \n",
        "                      show_normed = True,\n",
        "                      cmap = 'Reds')"
      ]
    },
    {
      "cell_type": "code",
      "execution_count": 19,
      "metadata": {
        "colab": {
          "base_uri": "https://localhost:8080/"
        },
        "id": "nui8gn9g1i7e",
        "outputId": "883b1269-2d6c-4a94-c3d5-b6fb1be87d7c"
      },
      "outputs": [
        {
          "output_type": "stream",
          "name": "stdout",
          "text": [
            "Fold 0: Accuracy = 0.9797101449275363\n",
            "Fold 1: Accuracy = 0.9820289855072464\n",
            "Fold 2: Accuracy = 0.9884057971014493\n",
            "Fold 3: Accuracy = 0.9895652173913043\n",
            "Fold 4: Accuracy = 0.9866589327146171\n"
          ]
        }
      ],
      "source": [
        "##cross validation on Random Forest with the over sample\n",
        "\n",
        "num_folds = 5\n",
        "kf = KFold(n_splits=num_folds, shuffle = True, random_state = 50)\n",
        "rfc = RandomForestClassifier(n_estimators = 50, max_depth = 5)\n",
        "accuracies = []\n",
        "\n",
        "for fold, (train_index, test_index) in enumerate(kf.split(X_df)):\n",
        "    X_train, X_test = X_df.iloc[train_index], X_df.iloc[test_index]\n",
        "    y_train, y_test = y_df.iloc[train_index], y_df.iloc[test_index]\n",
        "    \n",
        "    rfc.fit(X_train, y_train)\n",
        "    y_pred = rfc.predict(X_test)\n",
        "    accuracy = accuracy_score(y_test, y_pred)\n",
        "    accuracies.append(accuracy)\n",
        "    print(f\"Fold {fold}: Accuracy = {accuracy}\")"
      ]
    },
    {
      "cell_type": "code",
      "execution_count": 20,
      "metadata": {
        "colab": {
          "base_uri": "https://localhost:8080/"
        },
        "id": "LO8vhdcb3hny",
        "outputId": "eeba1b06-568b-4c88-d72b-4461a4bbc228"
      },
      "outputs": [
        {
          "output_type": "stream",
          "name": "stdout",
          "text": [
            "Average Accuracy = 0.9852738155284306\n"
          ]
        }
      ],
      "source": [
        "avg_accuracy = np.mean(accuracies)\n",
        "print(f\"Average Accuracy = {avg_accuracy}\")"
      ]
    },
    {
      "cell_type": "code",
      "execution_count": 21,
      "metadata": {
        "colab": {
          "base_uri": "https://localhost:8080/"
        },
        "id": "6fNd2ieSK4yI",
        "outputId": "963a853d-e48f-49ca-c0d9-30b3b04816d8"
      },
      "outputs": [
        {
          "output_type": "stream",
          "name": "stdout",
          "text": [
            "              precision    recall  f1-score   support\n",
            "\n",
            "           0       0.99      1.00      0.99      1701\n",
            "           1       0.00      0.00      0.00        23\n",
            "\n",
            "    accuracy                           0.99      1724\n",
            "   macro avg       0.49      0.50      0.50      1724\n",
            "weighted avg       0.97      0.99      0.98      1724\n",
            "\n"
          ]
        },
        {
          "output_type": "stream",
          "name": "stderr",
          "text": [
            "/usr/local/lib/python3.10/dist-packages/sklearn/metrics/_classification.py:1344: UndefinedMetricWarning: Precision and F-score are ill-defined and being set to 0.0 in labels with no predicted samples. Use `zero_division` parameter to control this behavior.\n",
            "  _warn_prf(average, modifier, msg_start, len(result))\n",
            "/usr/local/lib/python3.10/dist-packages/sklearn/metrics/_classification.py:1344: UndefinedMetricWarning: Precision and F-score are ill-defined and being set to 0.0 in labels with no predicted samples. Use `zero_division` parameter to control this behavior.\n",
            "  _warn_prf(average, modifier, msg_start, len(result))\n",
            "/usr/local/lib/python3.10/dist-packages/sklearn/metrics/_classification.py:1344: UndefinedMetricWarning: Precision and F-score are ill-defined and being set to 0.0 in labels with no predicted samples. Use `zero_division` parameter to control this behavior.\n",
            "  _warn_prf(average, modifier, msg_start, len(result))\n"
          ]
        }
      ],
      "source": [
        "print(classification_report(y_test, y_pred))"
      ]
    },
    {
      "cell_type": "code",
      "execution_count": 22,
      "metadata": {
        "colab": {
          "base_uri": "https://localhost:8080/",
          "height": 484
        },
        "id": "iVkiF82VK8vT",
        "outputId": "ffb913c9-866c-4979-82da-56d5a0ccc0b2"
      },
      "outputs": [
        {
          "output_type": "execute_result",
          "data": {
            "text/plain": [
              "(<Figure size 640x480 with 1 Axes>,\n",
              " <Axes: xlabel='predicted label', ylabel='true label'>)"
            ]
          },
          "metadata": {},
          "execution_count": 22
        },
        {
          "output_type": "display_data",
          "data": {
            "text/plain": [
              "<Figure size 640x480 with 1 Axes>"
            ],
            "image/png": "[encoded data removed]"
          },
          "metadata": {}
        }
      ],
      "source": [
        "#performing a confusion matrix on the cross validaton random forest\n",
        "\n",
        "plot_confusion_matrix(confusion_matrix(y_test, y_pred), \n",
        "                      show_absolute = True, \n",
        "                      show_normed = True,\n",
        "                      cmap = 'Reds')"
      ]
    },
    {
      "cell_type": "code",
      "execution_count": 23,
      "metadata": {
        "id": "RxtRAnymsgwP"
      },
      "outputs": [],
      "source": [
        "##neural networks for random over sample\n",
        "\n",
        "clf = Sequential()\n",
        "\n",
        "clf.add(Dense(units = 32, \n",
        "              kernel_initializer = 'uniform',\n",
        "              activation = 'relu', \n",
        "              input_dim = X_train.shape[1]))\n",
        "\n",
        "clf.add(Dense(units = 8, \n",
        "              kernel_initializer = 'uniform', \n",
        "              activation = 'relu'))\n",
        "\n",
        "dropout = 0.3\n",
        "clf.add(Dropout(dropout))\n",
        "\n",
        "clf.add(Dense(units = 1, \n",
        "              kernel_initializer = 'uniform', \n",
        "              activation = 'sigmoid'))\n",
        "\n",
        "clf.compile(optimizer = 'adam', \n",
        "            loss = 'binary_crossentropy', \n",
        "            metrics = ['accuracy'])"
      ]
    },
    {
      "cell_type": "code",
      "execution_count": 24,
      "metadata": {
        "colab": {
          "base_uri": "https://localhost:8080/"
        },
        "id": "a9xfiHKctfr-",
        "outputId": "86b79101-de50-42ab-87f5-a811e5843c6e"
      },
      "outputs": [
        {
          "output_type": "stream",
          "name": "stdout",
          "text": [
            "Model: \"sequential\"\n",
            "_________________________________________________________________\n",
            " Layer (type)                Output Shape              Param #   \n",
            "=================================================================\n",
            " dense (Dense)               (None, 32)                832       \n",
            "                                                                 \n",
            " dense_1 (Dense)             (None, 8)                 264       \n",
            "                                                                 \n",
            " dropout (Dropout)           (None, 8)                 0         \n",
            "                                                                 \n",
            " dense_2 (Dense)             (None, 1)                 9         \n",
            "                                                                 \n",
            "=================================================================\n",
            "Total params: 1,105\n",
            "Trainable params: 1,105\n",
            "Non-trainable params: 0\n",
            "_________________________________________________________________\n"
          ]
        }
      ],
      "source": [
        "clf.summary()"
      ]
    },
    {
      "cell_type": "code",
      "execution_count": 25,
      "metadata": {
        "colab": {
          "base_uri": "https://localhost:8080/"
        },
        "id": "N94FADtTtuf6",
        "outputId": "f2e0a004-b1c4-4a81-d154-d82e43f70b9a"
      },
      "outputs": [
        {
          "output_type": "stream",
          "name": "stdout",
          "text": [
            "Epoch 1/50\n",
            "151/151 [==============================] - 2s 4ms/step - loss: 0.1974 - accuracy: 0.9810 - val_loss: 0.0520 - val_accuracy: 0.9918\n",
            "Epoch 2/50\n",
            "151/151 [==============================] - 0s 3ms/step - loss: 0.1103 - accuracy: 0.9820 - val_loss: 0.0519 - val_accuracy: 0.9918\n",
            "Epoch 3/50\n",
            "151/151 [==============================] - 0s 3ms/step - loss: 0.1158 - accuracy: 0.9820 - val_loss: 0.0542 - val_accuracy: 0.9918\n",
            "Epoch 4/50\n",
            "151/151 [==============================] - 0s 3ms/step - loss: 0.1207 - accuracy: 0.9820 - val_loss: 0.0482 - val_accuracy: 0.9918\n",
            "Epoch 5/50\n",
            "151/151 [==============================] - 1s 3ms/step - loss: 0.1157 - accuracy: 0.9820 - val_loss: 0.0559 - val_accuracy: 0.9918\n",
            "Epoch 6/50\n",
            "151/151 [==============================] - 1s 4ms/step - loss: 0.1137 - accuracy: 0.9820 - val_loss: 0.0512 - val_accuracy: 0.9918\n",
            "Epoch 7/50\n",
            "151/151 [==============================] - 0s 3ms/step - loss: 0.1142 - accuracy: 0.9820 - val_loss: 0.0486 - val_accuracy: 0.9918\n",
            "Epoch 8/50\n",
            "151/151 [==============================] - 0s 3ms/step - loss: 0.1109 - accuracy: 0.9820 - val_loss: 0.0526 - val_accuracy: 0.9918\n",
            "Epoch 9/50\n",
            "151/151 [==============================] - 0s 3ms/step - loss: 0.1119 - accuracy: 0.9820 - val_loss: 0.0503 - val_accuracy: 0.9918\n",
            "Epoch 10/50\n",
            "151/151 [==============================] - 0s 3ms/step - loss: 0.1104 - accuracy: 0.9820 - val_loss: 0.0493 - val_accuracy: 0.9918\n",
            "Epoch 11/50\n",
            "151/151 [==============================] - 0s 3ms/step - loss: 0.1085 - accuracy: 0.9820 - val_loss: 0.0492 - val_accuracy: 0.9918\n",
            "Epoch 12/50\n",
            "151/151 [==============================] - 0s 3ms/step - loss: 0.1058 - accuracy: 0.9820 - val_loss: 0.0491 - val_accuracy: 0.9918\n",
            "Epoch 13/50\n",
            "151/151 [==============================] - 0s 3ms/step - loss: 0.1066 - accuracy: 0.9820 - val_loss: 0.0494 - val_accuracy: 0.9918\n",
            "Epoch 14/50\n",
            "151/151 [==============================] - 0s 3ms/step - loss: 0.1052 - accuracy: 0.9820 - val_loss: 0.0486 - val_accuracy: 0.9918\n",
            "Epoch 15/50\n",
            "151/151 [==============================] - 0s 3ms/step - loss: 0.1074 - accuracy: 0.9820 - val_loss: 0.0527 - val_accuracy: 0.9918\n",
            "Epoch 16/50\n",
            "151/151 [==============================] - 0s 3ms/step - loss: 0.1060 - accuracy: 0.9820 - val_loss: 0.0490 - val_accuracy: 0.9918\n",
            "Epoch 17/50\n",
            "151/151 [==============================] - 0s 3ms/step - loss: 0.1082 - accuracy: 0.9820 - val_loss: 0.0511 - val_accuracy: 0.9918\n",
            "Epoch 18/50\n",
            "151/151 [==============================] - 0s 3ms/step - loss: 0.1033 - accuracy: 0.9820 - val_loss: 0.0515 - val_accuracy: 0.9918\n",
            "Epoch 19/50\n",
            "151/151 [==============================] - 0s 3ms/step - loss: 0.1020 - accuracy: 0.9820 - val_loss: 0.0501 - val_accuracy: 0.9918\n",
            "Epoch 20/50\n",
            "151/151 [==============================] - 0s 3ms/step - loss: 0.1022 - accuracy: 0.9820 - val_loss: 0.0491 - val_accuracy: 0.9918\n",
            "Epoch 21/50\n",
            "151/151 [==============================] - 1s 4ms/step - loss: 0.1012 - accuracy: 0.9820 - val_loss: 0.0496 - val_accuracy: 0.9918\n",
            "Epoch 22/50\n",
            "151/151 [==============================] - 1s 4ms/step - loss: 0.0973 - accuracy: 0.9820 - val_loss: 0.0503 - val_accuracy: 0.9918\n",
            "Epoch 23/50\n",
            "151/151 [==============================] - 1s 4ms/step - loss: 0.0964 - accuracy: 0.9820 - val_loss: 0.0491 - val_accuracy: 0.9918\n",
            "Epoch 24/50\n",
            "151/151 [==============================] - 1s 4ms/step - loss: 0.0970 - accuracy: 0.9820 - val_loss: 0.0497 - val_accuracy: 0.9918\n",
            "Epoch 25/50\n",
            "151/151 [==============================] - 1s 4ms/step - loss: 0.0955 - accuracy: 0.9820 - val_loss: 0.0501 - val_accuracy: 0.9918\n",
            "Epoch 26/50\n",
            "151/151 [==============================] - 1s 4ms/step - loss: 0.0972 - accuracy: 0.9820 - val_loss: 0.0490 - val_accuracy: 0.9918\n",
            "Epoch 27/50\n",
            "151/151 [==============================] - 1s 4ms/step - loss: 0.0901 - accuracy: 0.9820 - val_loss: 0.0507 - val_accuracy: 0.9918\n",
            "Epoch 28/50\n",
            "151/151 [==============================] - 1s 4ms/step - loss: 0.0964 - accuracy: 0.9820 - val_loss: 0.0492 - val_accuracy: 0.9918\n",
            "Epoch 29/50\n",
            "151/151 [==============================] - 0s 3ms/step - loss: 0.0957 - accuracy: 0.9820 - val_loss: 0.0490 - val_accuracy: 0.9918\n",
            "Epoch 30/50\n",
            "151/151 [==============================] - 0s 3ms/step - loss: 0.0951 - accuracy: 0.9820 - val_loss: 0.0488 - val_accuracy: 0.9918\n",
            "Epoch 31/50\n",
            "151/151 [==============================] - 0s 3ms/step - loss: 0.0911 - accuracy: 0.9820 - val_loss: 0.0493 - val_accuracy: 0.9918\n",
            "Epoch 32/50\n",
            "151/151 [==============================] - 0s 3ms/step - loss: 0.0937 - accuracy: 0.9820 - val_loss: 0.0488 - val_accuracy: 0.9918\n",
            "Epoch 33/50\n",
            "151/151 [==============================] - 0s 3ms/step - loss: 0.0945 - accuracy: 0.9820 - val_loss: 0.0521 - val_accuracy: 0.9918\n",
            "Epoch 34/50\n",
            "151/151 [==============================] - 0s 3ms/step - loss: 0.0940 - accuracy: 0.9820 - val_loss: 0.0485 - val_accuracy: 0.9918\n",
            "Epoch 35/50\n",
            "151/151 [==============================] - 0s 3ms/step - loss: 0.0952 - accuracy: 0.9820 - val_loss: 0.0481 - val_accuracy: 0.9918\n",
            "Epoch 36/50\n",
            "151/151 [==============================] - 0s 3ms/step - loss: 0.0906 - accuracy: 0.9820 - val_loss: 0.0485 - val_accuracy: 0.9918\n",
            "Epoch 37/50\n",
            "151/151 [==============================] - 0s 3ms/step - loss: 0.0944 - accuracy: 0.9820 - val_loss: 0.0486 - val_accuracy: 0.9918\n",
            "Epoch 38/50\n",
            "151/151 [==============================] - 0s 3ms/step - loss: 0.0921 - accuracy: 0.9820 - val_loss: 0.0543 - val_accuracy: 0.9918\n",
            "Epoch 39/50\n",
            "151/151 [==============================] - 0s 2ms/step - loss: 0.0930 - accuracy: 0.9820 - val_loss: 0.0496 - val_accuracy: 0.9918\n",
            "Epoch 40/50\n",
            "151/151 [==============================] - 0s 3ms/step - loss: 0.0917 - accuracy: 0.9820 - val_loss: 0.0485 - val_accuracy: 0.9918\n",
            "Epoch 41/50\n",
            "151/151 [==============================] - 0s 3ms/step - loss: 0.0892 - accuracy: 0.9820 - val_loss: 0.0485 - val_accuracy: 0.9918\n",
            "Epoch 42/50\n",
            "151/151 [==============================] - 0s 3ms/step - loss: 0.0914 - accuracy: 0.9820 - val_loss: 0.0487 - val_accuracy: 0.9918\n",
            "Epoch 43/50\n",
            "151/151 [==============================] - 0s 3ms/step - loss: 0.0904 - accuracy: 0.9820 - val_loss: 0.0482 - val_accuracy: 0.9918\n",
            "Epoch 44/50\n",
            "151/151 [==============================] - 0s 3ms/step - loss: 0.0919 - accuracy: 0.9820 - val_loss: 0.0484 - val_accuracy: 0.9918\n",
            "Epoch 45/50\n",
            "151/151 [==============================] - 0s 3ms/step - loss: 0.0893 - accuracy: 0.9820 - val_loss: 0.0485 - val_accuracy: 0.9918\n",
            "Epoch 46/50\n",
            "151/151 [==============================] - 0s 3ms/step - loss: 0.0924 - accuracy: 0.9820 - val_loss: 0.0489 - val_accuracy: 0.9918\n",
            "Epoch 47/50\n",
            "151/151 [==============================] - 0s 3ms/step - loss: 0.0908 - accuracy: 0.9820 - val_loss: 0.0496 - val_accuracy: 0.9918\n",
            "Epoch 48/50\n",
            "151/151 [==============================] - 0s 3ms/step - loss: 0.0913 - accuracy: 0.9820 - val_loss: 0.0481 - val_accuracy: 0.9918\n",
            "Epoch 49/50\n",
            "151/151 [==============================] - 0s 3ms/step - loss: 0.0910 - accuracy: 0.9820 - val_loss: 0.0499 - val_accuracy: 0.9918\n",
            "Epoch 50/50\n",
            "151/151 [==============================] - 0s 3ms/step - loss: 0.0912 - accuracy: 0.9820 - val_loss: 0.0496 - val_accuracy: 0.9918\n"
          ]
        }
      ],
      "source": [
        "history = clf.fit(X_train, \n",
        "                  y_train, \n",
        "                  validation_split = 0.3,\n",
        "                  batch_size = 32, \n",
        "                  epochs = 50)"
      ]
    },
    {
      "cell_type": "code",
      "execution_count": 26,
      "metadata": {
        "id": "vrAKFxQWv3SZ"
      },
      "outputs": [],
      "source": [
        "plt.style.use('ggplot')\n",
        "\n",
        "def plot_history(history):\n",
        "    acc = history.history['accuracy']\n",
        "    val_acc = history.history['val_accuracy']\n",
        "    loss = history.history['loss']\n",
        "    val_loss = history.history['val_loss']\n",
        "    x = range(1, len(acc) + 1)\n",
        "\n",
        "    plt.figure(figsize = (12, 5))\n",
        "    plt.subplot(1, 2, 1)\n",
        "    plt.plot(x, acc, 'b', label = 'Training acc')\n",
        "    plt.plot(x, val_acc, 'r', label = 'Validation acc')\n",
        "    plt.title('Training and validation accuracy')\n",
        "    plt.legend()\n",
        "    plt.subplot(1, 2, 2)\n",
        "    plt.plot(x, loss, 'b', label = 'Training loss')\n",
        "    plt.plot(x, val_loss, 'r', label = 'Validation loss')\n",
        "    plt.title('Training and validation loss')\n",
        "    plt.legend()"
      ]
    },
    {
      "cell_type": "code",
      "execution_count": 27,
      "metadata": {
        "id": "kQ_hHBqVv4lU",
        "colab": {
          "base_uri": "https://localhost:8080/"
        },
        "outputId": "3834580c-92a2-4397-fb9b-b185293b0d0a"
      },
      "outputs": [
        {
          "output_type": "stream",
          "name": "stdout",
          "text": [
            "54/54 [==============================] - 0s 1ms/step\n"
          ]
        }
      ],
      "source": [
        "y_pred_prob = clf.predict(X_test)"
      ]
    },
    {
      "cell_type": "code",
      "execution_count": 28,
      "metadata": {
        "colab": {
          "base_uri": "https://localhost:8080/"
        },
        "id": "WrxNdpitv8Yg",
        "outputId": "e2f56eca-5a42-4ed0-9211-48e3c123bfa9"
      },
      "outputs": [
        {
          "output_type": "execute_result",
          "data": {
            "text/plain": [
              "array([[9.9263098e-03],\n",
              "       [3.8343523e-10],\n",
              "       [2.5231002e-02],\n",
              "       [6.9429632e-03],\n",
              "       [6.8383380e-03]], dtype=float32)"
            ]
          },
          "metadata": {},
          "execution_count": 28
        }
      ],
      "source": [
        "y_pred_prob[:5]"
      ]
    },
    {
      "cell_type": "code",
      "execution_count": 29,
      "metadata": {
        "colab": {
          "base_uri": "https://localhost:8080/"
        },
        "id": "Z7gmWhjZv-Wp",
        "outputId": "4d419ec2-771a-424b-e4e9-eddb886c3e86"
      },
      "outputs": [
        {
          "output_type": "stream",
          "name": "stdout",
          "text": [
            "54/54 [==============================] - 0s 1ms/step\n"
          ]
        }
      ],
      "source": [
        "y_pred = (clf.predict(X_test) > 0.5).astype(\"int32\")"
      ]
    },
    {
      "cell_type": "code",
      "execution_count": 30,
      "metadata": {
        "colab": {
          "base_uri": "https://localhost:8080/"
        },
        "id": "i-3GYh3cwCHM",
        "outputId": "ddd96221-32fc-4f9c-f7e6-d7791d2e7664"
      },
      "outputs": [
        {
          "output_type": "execute_result",
          "data": {
            "text/plain": [
              "array([[0],\n",
              "       [0],\n",
              "       [0],\n",
              "       [0],\n",
              "       [0]], dtype=int32)"
            ]
          },
          "metadata": {},
          "execution_count": 30
        }
      ],
      "source": [
        "y_pred[:5]"
      ]
    },
    {
      "cell_type": "code",
      "execution_count": 31,
      "metadata": {
        "colab": {
          "base_uri": "https://localhost:8080/"
        },
        "id": "CO5nZKr_t5s2",
        "outputId": "32456698-6aca-42d0-9d87-2bfefddfd2f6"
      },
      "outputs": [
        {
          "output_type": "stream",
          "name": "stdout",
          "text": [
            "              precision    recall  f1-score   support\n",
            "\n",
            "           0       0.99      1.00      0.99      1701\n",
            "           1       0.00      0.00      0.00        23\n",
            "\n",
            "    accuracy                           0.99      1724\n",
            "   macro avg       0.49      0.50      0.50      1724\n",
            "weighted avg       0.97      0.99      0.98      1724\n",
            "\n"
          ]
        },
        {
          "output_type": "stream",
          "name": "stderr",
          "text": [
            "/usr/local/lib/python3.10/dist-packages/sklearn/metrics/_classification.py:1344: UndefinedMetricWarning: Precision and F-score are ill-defined and being set to 0.0 in labels with no predicted samples. Use `zero_division` parameter to control this behavior.\n",
            "  _warn_prf(average, modifier, msg_start, len(result))\n",
            "/usr/local/lib/python3.10/dist-packages/sklearn/metrics/_classification.py:1344: UndefinedMetricWarning: Precision and F-score are ill-defined and being set to 0.0 in labels with no predicted samples. Use `zero_division` parameter to control this behavior.\n",
            "  _warn_prf(average, modifier, msg_start, len(result))\n",
            "/usr/local/lib/python3.10/dist-packages/sklearn/metrics/_classification.py:1344: UndefinedMetricWarning: Precision and F-score are ill-defined and being set to 0.0 in labels with no predicted samples. Use `zero_division` parameter to control this behavior.\n",
            "  _warn_prf(average, modifier, msg_start, len(result))\n"
          ]
        }
      ],
      "source": [
        "print(classification_report(y_test,y_pred))"
      ]
    },
    {
      "cell_type": "code",
      "execution_count": 32,
      "metadata": {
        "colab": {
          "base_uri": "https://localhost:8080/",
          "height": 488
        },
        "id": "FJSeAyd8wF5N",
        "outputId": "63b78201-39a9-471e-c0b4-704e3609949a"
      },
      "outputs": [
        {
          "output_type": "execute_result",
          "data": {
            "text/plain": [
              "(<Figure size 640x480 with 1 Axes>,\n",
              " <Axes: xlabel='predicted label', ylabel='true label'>)"
            ]
          },
          "metadata": {},
          "execution_count": 32
        },
        {
          "output_type": "display_data",
          "data": {
            "text/plain": [
              "<Figure size 640x480 with 1 Axes>"
            ],
            "image/png": "[encoded data removed]"
          },
          "metadata": {}
        }
      ],
      "source": [
        "#performing a confusion matrix on the neural networks\n",
        "\n",
        "plot_confusion_matrix(confusion_matrix(y_test, y_pred), \n",
        "                      show_absolute = True, \n",
        "                      show_normed = True,\n",
        "                      cmap = 'Reds')"
      ]
    },
    {
      "cell_type": "code",
      "execution_count": 33,
      "metadata": {
        "id": "q9G7XrPixpRA"
      },
      "outputs": [],
      "source": [
        "##conducting a random under sample of the data\n",
        "\n",
        "rus = RandomUnderSampler()\n",
        "X_resampled, y_resampled = rus.fit_resample(X_df, y_df)\n",
        "\n",
        "X_train, X_test, y_train, y_test = train_test_split(X_resampled, y_resampled, test_size = 0.2, random_state = 50)"
      ]
    },
    {
      "cell_type": "code",
      "execution_count": 34,
      "metadata": {
        "colab": {
          "base_uri": "https://localhost:8080/"
        },
        "id": "GypR2TORyC9z",
        "outputId": "fdbce991-f364-4cc4-d21a-8b88111883c4"
      },
      "outputs": [
        {
          "output_type": "execute_result",
          "data": {
            "text/plain": [
              "((203, 25), (51, 25))"
            ]
          },
          "metadata": {},
          "execution_count": 34
        }
      ],
      "source": [
        "X_train.shape, X_test.shape"
      ]
    },
    {
      "cell_type": "code",
      "execution_count": 35,
      "metadata": {
        "colab": {
          "base_uri": "https://localhost:8080/"
        },
        "id": "kTm0-R1EyD9y",
        "outputId": "eee82a7c-8c12-4234-f6ba-a4662a5b4f96"
      },
      "outputs": [
        {
          "output_type": "execute_result",
          "data": {
            "text/plain": [
              "(Counter({1: 103, 0: 100}), Counter({0: 27, 1: 24}))"
            ]
          },
          "metadata": {},
          "execution_count": 35
        }
      ],
      "source": [
        "Counter(y_train), Counter(y_test)"
      ]
    },
    {
      "cell_type": "code",
      "execution_count": 36,
      "metadata": {
        "colab": {
          "base_uri": "https://localhost:8080/",
          "height": 75
        },
        "id": "tisc7y2xyJAA",
        "outputId": "d05a96e4-c5fb-4960-b165-efadf579a625"
      },
      "outputs": [
        {
          "output_type": "execute_result",
          "data": {
            "text/plain": [
              "LogisticRegression(max_iter=5000)"
            ],
            "text/html": [
              "<style>#sk-container-id-3 {color: black;background-color: white;}#sk-container-id-3 pre{padding: 0;}#sk-container-id-3 div.sk-toggleable {background-color: white;}#sk-container-id-3 label.sk-toggleable__label {cursor: pointer;display: block;width: 100%;margin-bottom: 0;padding: 0.3em;box-sizing: border-box;text-align: center;}#sk-container-id-3 label.sk-toggleable__label-arrow:before {content: \"▸\";float: left;margin-right: 0.25em;color: #696969;}#sk-container-id-3 label.sk-toggleable__label-arrow:hover:before {color: black;}#sk-container-id-3 div.sk-estimator:hover label.sk-toggleable__label-arrow:before {color: black;}#sk-container-id-3 div.sk-toggleable__content {max-height: 0;max-width: 0;overflow: hidden;text-align: left;background-color: #f0f8ff;}#sk-container-id-3 div.sk-toggleable__content pre {margin: 0.2em;color: black;border-radius: 0.25em;background-color: #f0f8ff;}#sk-container-id-3 input.sk-toggleable__control:checked~div.sk-toggleable__content {max-height: 200px;max-width: 100%;overflow: auto;}#sk-container-id-3 input.sk-toggleable__control:checked~label.sk-toggleable__label-arrow:before {content: \"▾\";}#sk-container-id-3 div.sk-estimator input.sk-toggleable__control:checked~label.sk-toggleable__label {background-color: #d4ebff;}#sk-container-id-3 div.sk-label input.sk-toggleable__control:checked~label.sk-toggleable__label {background-color: #d4ebff;}#sk-container-id-3 input.sk-hidden--visually {border: 0;clip: rect(1px 1px 1px 1px);clip: rect(1px, 1px, 1px, 1px);height: 1px;margin: -1px;overflow: hidden;padding: 0;position: absolute;width: 1px;}#sk-container-id-3 div.sk-estimator {font-family: monospace;background-color: #f0f8ff;border: 1px dotted black;border-radius: 0.25em;box-sizing: border-box;margin-bottom: 0.5em;}#sk-container-id-3 div.sk-estimator:hover {background-color: #d4ebff;}#sk-container-id-3 div.sk-parallel-item::after {content: \"\";width: 100%;border-bottom: 1px solid gray;flex-grow: 1;}#sk-container-id-3 div.sk-label:hover label.sk-toggleable__label {background-color: #d4ebff;}#sk-container-id-3 div.sk-serial::before {content: \"\";position: absolute;border-left: 1px solid gray;box-sizing: border-box;top: 0;bottom: 0;left: 50%;z-index: 0;}#sk-container-id-3 div.sk-serial {display: flex;flex-direction: column;align-items: center;background-color: white;padding-right: 0.2em;padding-left: 0.2em;position: relative;}#sk-container-id-3 div.sk-item {position: relative;z-index: 1;}#sk-container-id-3 div.sk-parallel {display: flex;align-items: stretch;justify-content: center;background-color: white;position: relative;}#sk-container-id-3 div.sk-item::before, #sk-container-id-3 div.sk-parallel-item::before {content: \"\";position: absolute;border-left: 1px solid gray;box-sizing: border-box;top: 0;bottom: 0;left: 50%;z-index: -1;}#sk-container-id-3 div.sk-parallel-item {display: flex;flex-direction: column;z-index: 1;position: relative;background-color: white;}#sk-container-id-3 div.sk-parallel-item:first-child::after {align-self: flex-end;width: 50%;}#sk-container-id-3 div.sk-parallel-item:last-child::after {align-self: flex-start;width: 50%;}#sk-container-id-3 div.sk-parallel-item:only-child::after {width: 0;}#sk-container-id-3 div.sk-dashed-wrapped {border: 1px dashed gray;margin: 0 0.4em 0.5em 0.4em;box-sizing: border-box;padding-bottom: 0.4em;background-color: white;}#sk-container-id-3 div.sk-label label {font-family: monospace;font-weight: bold;display: inline-block;line-height: 1.2em;}#sk-container-id-3 div.sk-label-container {text-align: center;}#sk-container-id-3 div.sk-container {/* jupyter's `normalize.less` sets `[hidden] { display: none; }` but bootstrap.min.css set `[hidden] { display: none !important; }` so we also need the `!important` here to be able to override the default hidden behavior on the sphinx rendered scikit-learn.org. See: https://github.com/scikit-learn/scikit-learn/issues/21755 */display: inline-block !important;position: relative;}#sk-container-id-3 div.sk-text-repr-fallback {display: none;}</style><div id=\"sk-container-id-3\" class=\"sk-top-container\"><div class=\"sk-text-repr-fallback\"><pre>LogisticRegression(max_iter=5000)</pre><b>In a Jupyter environment, please rerun this cell to show the HTML representation or trust the notebook. <br />On GitHub, the HTML representation is unable to render, please try loading this page with nbviewer.org.</b></div><div class=\"sk-container\" hidden><div class=\"sk-item\"><div class=\"sk-estimator sk-toggleable\"><input class=\"sk-toggleable__control sk-hidden--visually\" id=\"sk-estimator-id-3\" type=\"checkbox\" checked><label for=\"sk-estimator-id-3\" class=\"sk-toggleable__label sk-toggleable__label-arrow\">LogisticRegression</label><div class=\"sk-toggleable__content\"><pre>LogisticRegression(max_iter=5000)</pre></div></div></div></div></div>"
            ]
          },
          "metadata": {},
          "execution_count": 36
        }
      ],
      "source": [
        "##logistic regression test for random under sample\n",
        "\n",
        "lr_model = LogisticRegression(max_iter = 5000)\n",
        "lr_model.fit(X_train, y_train)"
      ]
    },
    {
      "cell_type": "code",
      "execution_count": 37,
      "metadata": {
        "colab": {
          "base_uri": "https://localhost:8080/"
        },
        "id": "07moBNWC0ppn",
        "outputId": "52131629-a725-467e-d37c-207f62670eb4"
      },
      "outputs": [
        {
          "output_type": "stream",
          "name": "stdout",
          "text": [
            "Accuracy: 0.47058823529411764\n"
          ]
        }
      ],
      "source": [
        "y_pred = lr_model.predict(X_test)\n",
        "\n",
        "accuracy = lr_model.score(X_test, y_test)\n",
        "print('Accuracy:', accuracy)"
      ]
    },
    {
      "cell_type": "code",
      "execution_count": 38,
      "metadata": {
        "colab": {
          "base_uri": "https://localhost:8080/"
        },
        "id": "IrlDJDRy0xR0",
        "outputId": "3b9ff8cc-3c03-4fdb-edee-b31a89b6c086"
      },
      "outputs": [
        {
          "output_type": "stream",
          "name": "stdout",
          "text": [
            "              precision    recall  f1-score   support\n",
            "\n",
            "           0       0.50      0.44      0.47        27\n",
            "           1       0.44      0.50      0.47        24\n",
            "\n",
            "    accuracy                           0.47        51\n",
            "   macro avg       0.47      0.47      0.47        51\n",
            "weighted avg       0.47      0.47      0.47        51\n",
            "\n"
          ]
        }
      ],
      "source": [
        "print(classification_report(y_test, y_pred))"
      ]
    },
    {
      "cell_type": "code",
      "execution_count": 39,
      "metadata": {
        "colab": {
          "base_uri": "https://localhost:8080/",
          "height": 488
        },
        "id": "prAU34jULeCf",
        "outputId": "7e2b387b-1b2f-404e-decb-47d96e4deec8"
      },
      "outputs": [
        {
          "output_type": "execute_result",
          "data": {
            "text/plain": [
              "(<Figure size 640x480 with 1 Axes>,\n",
              " <Axes: xlabel='predicted label', ylabel='true label'>)"
            ]
          },
          "metadata": {},
          "execution_count": 39
        },
        {
          "output_type": "display_data",
          "data": {
            "text/plain": [
              "<Figure size 640x480 with 1 Axes>"
            ],
            "image/png": "[encoded data removed]"
          },
          "metadata": {}
        }
      ],
      "source": [
        "#performing a confusion matrix on the logistic regression\n",
        "\n",
        "plot_confusion_matrix(confusion_matrix(y_test, y_pred), \n",
        "                      show_absolute = True, \n",
        "                      show_normed = True,\n",
        "                      cmap = 'Reds')"
      ]
    },
    {
      "cell_type": "code",
      "execution_count": 40,
      "metadata": {
        "colab": {
          "base_uri": "https://localhost:8080/",
          "height": 75
        },
        "id": "P3T3O-AW01ay",
        "outputId": "c3938c9e-dae6-45a1-fa09-56ad0fb1b3ef"
      },
      "outputs": [
        {
          "output_type": "execute_result",
          "data": {
            "text/plain": [
              "RandomForestClassifier(n_estimators=50, random_state=25)"
            ],
            "text/html": [
              "<style>#sk-container-id-4 {color: black;background-color: white;}#sk-container-id-4 pre{padding: 0;}#sk-container-id-4 div.sk-toggleable {background-color: white;}#sk-container-id-4 label.sk-toggleable__label {cursor: pointer;display: block;width: 100%;margin-bottom: 0;padding: 0.3em;box-sizing: border-box;text-align: center;}#sk-container-id-4 label.sk-toggleable__label-arrow:before {content: \"▸\";float: left;margin-right: 0.25em;color: #696969;}#sk-container-id-4 label.sk-toggleable__label-arrow:hover:before {color: black;}#sk-container-id-4 div.sk-estimator:hover label.sk-toggleable__label-arrow:before {color: black;}#sk-container-id-4 div.sk-toggleable__content {max-height: 0;max-width: 0;overflow: hidden;text-align: left;background-color: #f0f8ff;}#sk-container-id-4 div.sk-toggleable__content pre {margin: 0.2em;color: black;border-radius: 0.25em;background-color: #f0f8ff;}#sk-container-id-4 input.sk-toggleable__control:checked~div.sk-toggleable__content {max-height: 200px;max-width: 100%;overflow: auto;}#sk-container-id-4 input.sk-toggleable__control:checked~label.sk-toggleable__label-arrow:before {content: \"▾\";}#sk-container-id-4 div.sk-estimator input.sk-toggleable__control:checked~label.sk-toggleable__label {background-color: #d4ebff;}#sk-container-id-4 div.sk-label input.sk-toggleable__control:checked~label.sk-toggleable__label {background-color: #d4ebff;}#sk-container-id-4 input.sk-hidden--visually {border: 0;clip: rect(1px 1px 1px 1px);clip: rect(1px, 1px, 1px, 1px);height: 1px;margin: -1px;overflow: hidden;padding: 0;position: absolute;width: 1px;}#sk-container-id-4 div.sk-estimator {font-family: monospace;background-color: #f0f8ff;border: 1px dotted black;border-radius: 0.25em;box-sizing: border-box;margin-bottom: 0.5em;}#sk-container-id-4 div.sk-estimator:hover {background-color: #d4ebff;}#sk-container-id-4 div.sk-parallel-item::after {content: \"\";width: 100%;border-bottom: 1px solid gray;flex-grow: 1;}#sk-container-id-4 div.sk-label:hover label.sk-toggleable__label {background-color: #d4ebff;}#sk-container-id-4 div.sk-serial::before {content: \"\";position: absolute;border-left: 1px solid gray;box-sizing: border-box;top: 0;bottom: 0;left: 50%;z-index: 0;}#sk-container-id-4 div.sk-serial {display: flex;flex-direction: column;align-items: center;background-color: white;padding-right: 0.2em;padding-left: 0.2em;position: relative;}#sk-container-id-4 div.sk-item {position: relative;z-index: 1;}#sk-container-id-4 div.sk-parallel {display: flex;align-items: stretch;justify-content: center;background-color: white;position: relative;}#sk-container-id-4 div.sk-item::before, #sk-container-id-4 div.sk-parallel-item::before {content: \"\";position: absolute;border-left: 1px solid gray;box-sizing: border-box;top: 0;bottom: 0;left: 50%;z-index: -1;}#sk-container-id-4 div.sk-parallel-item {display: flex;flex-direction: column;z-index: 1;position: relative;background-color: white;}#sk-container-id-4 div.sk-parallel-item:first-child::after {align-self: flex-end;width: 50%;}#sk-container-id-4 div.sk-parallel-item:last-child::after {align-self: flex-start;width: 50%;}#sk-container-id-4 div.sk-parallel-item:only-child::after {width: 0;}#sk-container-id-4 div.sk-dashed-wrapped {border: 1px dashed gray;margin: 0 0.4em 0.5em 0.4em;box-sizing: border-box;padding-bottom: 0.4em;background-color: white;}#sk-container-id-4 div.sk-label label {font-family: monospace;font-weight: bold;display: inline-block;line-height: 1.2em;}#sk-container-id-4 div.sk-label-container {text-align: center;}#sk-container-id-4 div.sk-container {/* jupyter's `normalize.less` sets `[hidden] { display: none; }` but bootstrap.min.css set `[hidden] { display: none !important; }` so we also need the `!important` here to be able to override the default hidden behavior on the sphinx rendered scikit-learn.org. See: https://github.com/scikit-learn/scikit-learn/issues/21755 */display: inline-block !important;position: relative;}#sk-container-id-4 div.sk-text-repr-fallback {display: none;}</style><div id=\"sk-container-id-4\" class=\"sk-top-container\"><div class=\"sk-text-repr-fallback\"><pre>RandomForestClassifier(n_estimators=50, random_state=25)</pre><b>In a Jupyter environment, please rerun this cell to show the HTML representation or trust the notebook. <br />On GitHub, the HTML representation is unable to render, please try loading this page with nbviewer.org.</b></div><div class=\"sk-container\" hidden><div class=\"sk-item\"><div class=\"sk-estimator sk-toggleable\"><input class=\"sk-toggleable__control sk-hidden--visually\" id=\"sk-estimator-id-4\" type=\"checkbox\" checked><label for=\"sk-estimator-id-4\" class=\"sk-toggleable__label sk-toggleable__label-arrow\">RandomForestClassifier</label><div class=\"sk-toggleable__content\"><pre>RandomForestClassifier(n_estimators=50, random_state=25)</pre></div></div></div></div></div>"
            ]
          },
          "metadata": {},
          "execution_count": 40
        }
      ],
      "source": [
        "##random forest classifier for random under sample\n",
        "\n",
        "rfc = RandomForestClassifier(n_estimators = 50, random_state = 25)\n",
        "rfc.fit(X_train, y_train)"
      ]
    },
    {
      "cell_type": "code",
      "execution_count": 41,
      "metadata": {
        "colab": {
          "base_uri": "https://localhost:8080/"
        },
        "id": "HUOeDE151S5U",
        "outputId": "a179d3df-a605-4cc1-9cc9-0a439ad761e9"
      },
      "outputs": [
        {
          "output_type": "stream",
          "name": "stdout",
          "text": [
            "Accuracy: 0.6666666666666666\n"
          ]
        }
      ],
      "source": [
        "y_pred = rfc.predict(X_test)\n",
        "\n",
        "accuracy = rfc.score(X_test, y_test)\n",
        "print('Accuracy:', accuracy)"
      ]
    },
    {
      "cell_type": "code",
      "execution_count": 42,
      "metadata": {
        "colab": {
          "base_uri": "https://localhost:8080/"
        },
        "id": "ZZqBc2dJLvMD",
        "outputId": "4928dc58-4293-4639-ca4f-e59090d04993"
      },
      "outputs": [
        {
          "output_type": "stream",
          "name": "stdout",
          "text": [
            "              precision    recall  f1-score   support\n",
            "\n",
            "           0       0.69      0.67      0.68        27\n",
            "           1       0.64      0.67      0.65        24\n",
            "\n",
            "    accuracy                           0.67        51\n",
            "   macro avg       0.67      0.67      0.67        51\n",
            "weighted avg       0.67      0.67      0.67        51\n",
            "\n"
          ]
        }
      ],
      "source": [
        "print(classification_report(y_test, y_pred))"
      ]
    },
    {
      "cell_type": "code",
      "execution_count": 43,
      "metadata": {
        "colab": {
          "base_uri": "https://localhost:8080/",
          "height": 488
        },
        "id": "Aif1c3FyLzwk",
        "outputId": "4a28076b-4ab2-4d24-b65b-e2b2666a37c4"
      },
      "outputs": [
        {
          "output_type": "execute_result",
          "data": {
            "text/plain": [
              "(<Figure size 640x480 with 1 Axes>,\n",
              " <Axes: xlabel='predicted label', ylabel='true label'>)"
            ]
          },
          "metadata": {},
          "execution_count": 43
        },
        {
          "output_type": "display_data",
          "data": {
            "text/plain": [
              "<Figure size 640x480 with 1 Axes>"
            ],
            "image/png": "[encoded data removed]"
          },
          "metadata": {}
        }
      ],
      "source": [
        "#performing a confusion matrix on the random forest\n",
        "\n",
        "plot_confusion_matrix(confusion_matrix(y_test, y_pred), \n",
        "                      show_absolute = True, \n",
        "                      show_normed = True,\n",
        "                      cmap = 'Reds')"
      ]
    },
    {
      "cell_type": "code",
      "execution_count": 44,
      "metadata": {
        "id": "sf0Ev7IZ4GzI"
      },
      "outputs": [],
      "source": [
        "##neural networks for random under sample\n",
        "\n",
        "clf = Sequential()\n",
        "\n",
        "clf.add(Dense(units = 32, \n",
        "              kernel_initializer = 'uniform',\n",
        "              activation = 'relu', \n",
        "              input_dim = X_train.shape[1]))\n",
        "\n",
        "clf.add(Dense(units = 8, \n",
        "              kernel_initializer = 'uniform', \n",
        "              activation = 'relu'))\n",
        "\n",
        "dropout = 0.3\n",
        "clf.add(Dropout(dropout))\n",
        "\n",
        "clf.add(Dense(units = 1, \n",
        "              kernel_initializer = 'uniform', \n",
        "              activation = 'sigmoid'))\n",
        "\n",
        "clf.compile(optimizer = 'adam', \n",
        "            loss = 'binary_crossentropy', \n",
        "            metrics = ['accuracy'])"
      ]
    },
    {
      "cell_type": "code",
      "execution_count": 45,
      "metadata": {
        "colab": {
          "base_uri": "https://localhost:8080/"
        },
        "id": "1aH1CT3h4NMw",
        "outputId": "5c383d88-770a-4db4-a18b-4d847e737f6a"
      },
      "outputs": [
        {
          "output_type": "stream",
          "name": "stdout",
          "text": [
            "Model: \"sequential_1\"\n",
            "_________________________________________________________________\n",
            " Layer (type)                Output Shape              Param #   \n",
            "=================================================================\n",
            " dense_3 (Dense)             (None, 32)                832       \n",
            "                                                                 \n",
            " dense_4 (Dense)             (None, 8)                 264       \n",
            "                                                                 \n",
            " dropout_1 (Dropout)         (None, 8)                 0         \n",
            "                                                                 \n",
            " dense_5 (Dense)             (None, 1)                 9         \n",
            "                                                                 \n",
            "=================================================================\n",
            "Total params: 1,105\n",
            "Trainable params: 1,105\n",
            "Non-trainable params: 0\n",
            "_________________________________________________________________\n"
          ]
        }
      ],
      "source": [
        "clf.summary()"
      ]
    },
    {
      "cell_type": "code",
      "execution_count": 46,
      "metadata": {
        "colab": {
          "base_uri": "https://localhost:8080/"
        },
        "id": "QgGB5csQ4RmT",
        "outputId": "2040de22-d8a8-40b3-ade1-71c57e6be7fd"
      },
      "outputs": [
        {
          "output_type": "stream",
          "name": "stdout",
          "text": [
            "Epoch 1/50\n",
            "5/5 [==============================] - 2s 56ms/step - loss: 0.6940 - accuracy: 0.4437 - val_loss: 0.6930 - val_accuracy: 0.5738\n",
            "Epoch 2/50\n",
            "5/5 [==============================] - 0s 11ms/step - loss: 0.6929 - accuracy: 0.5070 - val_loss: 0.6931 - val_accuracy: 0.4918\n",
            "Epoch 3/50\n",
            "5/5 [==============================] - 0s 28ms/step - loss: 0.6930 - accuracy: 0.5493 - val_loss: 0.6933 - val_accuracy: 0.4754\n",
            "Epoch 4/50\n",
            "5/5 [==============================] - 0s 47ms/step - loss: 0.6928 - accuracy: 0.5141 - val_loss: 0.6933 - val_accuracy: 0.4918\n",
            "Epoch 5/50\n",
            "5/5 [==============================] - 0s 50ms/step - loss: 0.6927 - accuracy: 0.5070 - val_loss: 0.6938 - val_accuracy: 0.4918\n",
            "Epoch 6/50\n",
            "5/5 [==============================] - 0s 55ms/step - loss: 0.6917 - accuracy: 0.5352 - val_loss: 0.6944 - val_accuracy: 0.4918\n",
            "Epoch 7/50\n",
            "5/5 [==============================] - 0s 32ms/step - loss: 0.6898 - accuracy: 0.5141 - val_loss: 0.6952 - val_accuracy: 0.4918\n",
            "Epoch 8/50\n",
            "5/5 [==============================] - 0s 28ms/step - loss: 0.6914 - accuracy: 0.5775 - val_loss: 0.6958 - val_accuracy: 0.4918\n",
            "Epoch 9/50\n",
            "5/5 [==============================] - 0s 14ms/step - loss: 0.6890 - accuracy: 0.5704 - val_loss: 0.6966 - val_accuracy: 0.4918\n",
            "Epoch 10/50\n",
            "5/5 [==============================] - 0s 15ms/step - loss: 0.6908 - accuracy: 0.5845 - val_loss: 0.6968 - val_accuracy: 0.4754\n",
            "Epoch 11/50\n",
            "5/5 [==============================] - 0s 14ms/step - loss: 0.6894 - accuracy: 0.5634 - val_loss: 0.6965 - val_accuracy: 0.4754\n",
            "Epoch 12/50\n",
            "5/5 [==============================] - 0s 16ms/step - loss: 0.6880 - accuracy: 0.5423 - val_loss: 0.6967 - val_accuracy: 0.4754\n",
            "Epoch 13/50\n",
            "5/5 [==============================] - 0s 11ms/step - loss: 0.6904 - accuracy: 0.5563 - val_loss: 0.6971 - val_accuracy: 0.4590\n",
            "Epoch 14/50\n",
            "5/5 [==============================] - 0s 10ms/step - loss: 0.6926 - accuracy: 0.5352 - val_loss: 0.6964 - val_accuracy: 0.4262\n",
            "Epoch 15/50\n",
            "5/5 [==============================] - 0s 26ms/step - loss: 0.6920 - accuracy: 0.5352 - val_loss: 0.6947 - val_accuracy: 0.4262\n",
            "Epoch 16/50\n",
            "5/5 [==============================] - 0s 44ms/step - loss: 0.6843 - accuracy: 0.6056 - val_loss: 0.6932 - val_accuracy: 0.4918\n",
            "Epoch 17/50\n",
            "5/5 [==============================] - 0s 49ms/step - loss: 0.6869 - accuracy: 0.5563 - val_loss: 0.6924 - val_accuracy: 0.5410\n",
            "Epoch 18/50\n",
            "5/5 [==============================] - 0s 36ms/step - loss: 0.6824 - accuracy: 0.5845 - val_loss: 0.6926 - val_accuracy: 0.5410\n",
            "Epoch 19/50\n",
            "5/5 [==============================] - 0s 28ms/step - loss: 0.6859 - accuracy: 0.5211 - val_loss: 0.6933 - val_accuracy: 0.5246\n",
            "Epoch 20/50\n",
            "5/5 [==============================] - 0s 34ms/step - loss: 0.6851 - accuracy: 0.5141 - val_loss: 0.6938 - val_accuracy: 0.5410\n",
            "Epoch 21/50\n",
            "5/5 [==============================] - 0s 26ms/step - loss: 0.6755 - accuracy: 0.5915 - val_loss: 0.6951 - val_accuracy: 0.5410\n",
            "Epoch 22/50\n",
            "5/5 [==============================] - 0s 10ms/step - loss: 0.6746 - accuracy: 0.6056 - val_loss: 0.6948 - val_accuracy: 0.4918\n",
            "Epoch 23/50\n",
            "5/5 [==============================] - 0s 15ms/step - loss: 0.6665 - accuracy: 0.6408 - val_loss: 0.6963 - val_accuracy: 0.4918\n",
            "Epoch 24/50\n",
            "5/5 [==============================] - 0s 10ms/step - loss: 0.6638 - accuracy: 0.6338 - val_loss: 0.6984 - val_accuracy: 0.5082\n",
            "Epoch 25/50\n",
            "5/5 [==============================] - 0s 11ms/step - loss: 0.6685 - accuracy: 0.5775 - val_loss: 0.7002 - val_accuracy: 0.4918\n",
            "Epoch 26/50\n",
            "5/5 [==============================] - 0s 16ms/step - loss: 0.6724 - accuracy: 0.5282 - val_loss: 0.7041 - val_accuracy: 0.5410\n",
            "Epoch 27/50\n",
            "5/5 [==============================] - 0s 14ms/step - loss: 0.6542 - accuracy: 0.6338 - val_loss: 0.7090 - val_accuracy: 0.5082\n",
            "Epoch 28/50\n",
            "5/5 [==============================] - 0s 15ms/step - loss: 0.6661 - accuracy: 0.5634 - val_loss: 0.7130 - val_accuracy: 0.4918\n",
            "Epoch 29/50\n",
            "5/5 [==============================] - 0s 11ms/step - loss: 0.6564 - accuracy: 0.5775 - val_loss: 0.7100 - val_accuracy: 0.4918\n",
            "Epoch 30/50\n",
            "5/5 [==============================] - 0s 13ms/step - loss: 0.6593 - accuracy: 0.5845 - val_loss: 0.7132 - val_accuracy: 0.5246\n",
            "Epoch 31/50\n",
            "5/5 [==============================] - 0s 14ms/step - loss: 0.6614 - accuracy: 0.5563 - val_loss: 0.7197 - val_accuracy: 0.5246\n",
            "Epoch 32/50\n",
            "5/5 [==============================] - 0s 10ms/step - loss: 0.6558 - accuracy: 0.5845 - val_loss: 0.7298 - val_accuracy: 0.4754\n",
            "Epoch 33/50\n",
            "5/5 [==============================] - 0s 16ms/step - loss: 0.6538 - accuracy: 0.6338 - val_loss: 0.7263 - val_accuracy: 0.5246\n",
            "Epoch 34/50\n",
            "5/5 [==============================] - 0s 10ms/step - loss: 0.6533 - accuracy: 0.5915 - val_loss: 0.7253 - val_accuracy: 0.5246\n",
            "Epoch 35/50\n",
            "5/5 [==============================] - 0s 11ms/step - loss: 0.6468 - accuracy: 0.6056 - val_loss: 0.7327 - val_accuracy: 0.4918\n",
            "Epoch 36/50\n",
            "5/5 [==============================] - 0s 15ms/step - loss: 0.6319 - accuracy: 0.6197 - val_loss: 0.7355 - val_accuracy: 0.5082\n",
            "Epoch 37/50\n",
            "5/5 [==============================] - 0s 10ms/step - loss: 0.6490 - accuracy: 0.5493 - val_loss: 0.7373 - val_accuracy: 0.4918\n",
            "Epoch 38/50\n",
            "5/5 [==============================] - 0s 15ms/step - loss: 0.6395 - accuracy: 0.5915 - val_loss: 0.7399 - val_accuracy: 0.5410\n",
            "Epoch 39/50\n",
            "5/5 [==============================] - 0s 11ms/step - loss: 0.6441 - accuracy: 0.6127 - val_loss: 0.7511 - val_accuracy: 0.4918\n",
            "Epoch 40/50\n",
            "5/5 [==============================] - 0s 11ms/step - loss: 0.6337 - accuracy: 0.6197 - val_loss: 0.7500 - val_accuracy: 0.5082\n",
            "Epoch 41/50\n",
            "5/5 [==============================] - 0s 15ms/step - loss: 0.6462 - accuracy: 0.5563 - val_loss: 0.7499 - val_accuracy: 0.5410\n",
            "Epoch 42/50\n",
            "5/5 [==============================] - 0s 14ms/step - loss: 0.6487 - accuracy: 0.6197 - val_loss: 0.7597 - val_accuracy: 0.4918\n",
            "Epoch 43/50\n",
            "5/5 [==============================] - 0s 11ms/step - loss: 0.6266 - accuracy: 0.6620 - val_loss: 0.7567 - val_accuracy: 0.4918\n",
            "Epoch 44/50\n",
            "5/5 [==============================] - 0s 11ms/step - loss: 0.6376 - accuracy: 0.6197 - val_loss: 0.7606 - val_accuracy: 0.4918\n",
            "Epoch 45/50\n",
            "5/5 [==============================] - 0s 10ms/step - loss: 0.6386 - accuracy: 0.5704 - val_loss: 0.7682 - val_accuracy: 0.5410\n",
            "Epoch 46/50\n",
            "5/5 [==============================] - 0s 11ms/step - loss: 0.6270 - accuracy: 0.6479 - val_loss: 0.7684 - val_accuracy: 0.5246\n",
            "Epoch 47/50\n",
            "5/5 [==============================] - 0s 16ms/step - loss: 0.6382 - accuracy: 0.6056 - val_loss: 0.7741 - val_accuracy: 0.4918\n",
            "Epoch 48/50\n",
            "5/5 [==============================] - 0s 14ms/step - loss: 0.6408 - accuracy: 0.5845 - val_loss: 0.7783 - val_accuracy: 0.5410\n",
            "Epoch 49/50\n",
            "5/5 [==============================] - 0s 10ms/step - loss: 0.6261 - accuracy: 0.6338 - val_loss: 0.7837 - val_accuracy: 0.5246\n",
            "Epoch 50/50\n",
            "5/5 [==============================] - 0s 14ms/step - loss: 0.6140 - accuracy: 0.6479 - val_loss: 0.7891 - val_accuracy: 0.5738\n"
          ]
        }
      ],
      "source": [
        "history = clf.fit(X_train, \n",
        "                  y_train, \n",
        "                  validation_split = 0.3,\n",
        "                  batch_size = 32, \n",
        "                  epochs = 50)"
      ]
    },
    {
      "cell_type": "code",
      "execution_count": 47,
      "metadata": {
        "id": "t6-5_nuN4U5K"
      },
      "outputs": [],
      "source": [
        "plt.style.use('ggplot')\n",
        "\n",
        "def plot_history(history):\n",
        "    acc = history.history['accuracy']\n",
        "    val_acc = history.history['val_accuracy']\n",
        "    loss = history.history['loss']\n",
        "    val_loss = history.history['val_loss']\n",
        "    x = range(1, len(acc) + 1)\n",
        "\n",
        "    plt.figure(figsize = (12, 5))\n",
        "    plt.subplot(1, 2, 1)\n",
        "    plt.plot(x, acc, 'b', label = 'Training acc')\n",
        "    plt.plot(x, val_acc, 'r', label = 'Validation acc')\n",
        "    plt.title('Training and validation accuracy')\n",
        "    plt.legend()\n",
        "    plt.subplot(1, 2, 2)\n",
        "    plt.plot(x, loss, 'b', label = 'Training loss')\n",
        "    plt.plot(x, val_loss, 'r', label = 'Validation loss')\n",
        "    plt.title('Training and validation loss')\n",
        "    plt.legend()"
      ]
    },
    {
      "cell_type": "code",
      "execution_count": 48,
      "metadata": {
        "colab": {
          "base_uri": "https://localhost:8080/"
        },
        "id": "hB0EP_9o4ale",
        "outputId": "aeb01927-1ed8-4429-bb5c-cda880f9eb8a"
      },
      "outputs": [
        {
          "output_type": "stream",
          "name": "stdout",
          "text": [
            "2/2 [==============================] - 0s 4ms/step\n"
          ]
        }
      ],
      "source": [
        "y_pred_prob = clf.predict(X_test)"
      ]
    },
    {
      "cell_type": "code",
      "execution_count": 49,
      "metadata": {
        "colab": {
          "base_uri": "https://localhost:8080/"
        },
        "id": "00sqU-o_4bIv",
        "outputId": "d10cf60c-0ad1-457d-bfae-d597bdf44f97"
      },
      "outputs": [
        {
          "output_type": "execute_result",
          "data": {
            "text/plain": [
              "array([[0.44961497],\n",
              "       [0.48517582],\n",
              "       [0.4773118 ],\n",
              "       [0.47122625],\n",
              "       [0.6150603 ]], dtype=float32)"
            ]
          },
          "metadata": {},
          "execution_count": 49
        }
      ],
      "source": [
        "y_pred_prob[:5]"
      ]
    },
    {
      "cell_type": "code",
      "execution_count": 50,
      "metadata": {
        "colab": {
          "base_uri": "https://localhost:8080/"
        },
        "id": "Woo91WjD4fal",
        "outputId": "27e0606e-b1ad-4d59-d21e-38b614891b0d"
      },
      "outputs": [
        {
          "output_type": "stream",
          "name": "stdout",
          "text": [
            "2/2 [==============================] - 0s 6ms/step\n"
          ]
        }
      ],
      "source": [
        "y_pred = (clf.predict(X_test) > 0.5).astype(\"int32\")"
      ]
    },
    {
      "cell_type": "code",
      "execution_count": 51,
      "metadata": {
        "colab": {
          "base_uri": "https://localhost:8080/"
        },
        "id": "2pjpEFoX4iHX",
        "outputId": "1acbbe83-6e8d-4064-99aa-bc2ff232e31b"
      },
      "outputs": [
        {
          "output_type": "execute_result",
          "data": {
            "text/plain": [
              "array([[0],\n",
              "       [0],\n",
              "       [0],\n",
              "       [0],\n",
              "       [1]], dtype=int32)"
            ]
          },
          "metadata": {},
          "execution_count": 51
        }
      ],
      "source": [
        "y_pred[:5]"
      ]
    },
    {
      "cell_type": "code",
      "execution_count": 52,
      "metadata": {
        "colab": {
          "base_uri": "https://localhost:8080/"
        },
        "id": "8VuF0ebEwhSu",
        "outputId": "2123cf91-aaf9-4f74-9304-7ffb04291a5c"
      },
      "outputs": [
        {
          "output_type": "stream",
          "name": "stdout",
          "text": [
            "              precision    recall  f1-score   support\n",
            "\n",
            "           0       0.53      0.37      0.43        27\n",
            "           1       0.47      0.62      0.54        24\n",
            "\n",
            "    accuracy                           0.49        51\n",
            "   macro avg       0.50      0.50      0.49        51\n",
            "weighted avg       0.50      0.49      0.48        51\n",
            "\n"
          ]
        }
      ],
      "source": [
        "print(classification_report(y_test,y_pred))"
      ]
    },
    {
      "cell_type": "code",
      "execution_count": 53,
      "metadata": {
        "colab": {
          "base_uri": "https://localhost:8080/",
          "height": 488
        },
        "id": "oyxGFgd54lWF",
        "outputId": "c86ff205-baf4-4b87-da4b-f43a6ad9e48b"
      },
      "outputs": [
        {
          "output_type": "execute_result",
          "data": {
            "text/plain": [
              "(<Figure size 640x480 with 1 Axes>,\n",
              " <Axes: xlabel='predicted label', ylabel='true label'>)"
            ]
          },
          "metadata": {},
          "execution_count": 53
        },
        {
          "output_type": "display_data",
          "data": {
            "text/plain": [
              "<Figure size 640x480 with 1 Axes>"
            ],
            "image/png": "[encoded data removed]"
          },
          "metadata": {}
        }
      ],
      "source": [
        "#performing a confusion matrix on the neural network\n",
        "\n",
        "plot_confusion_matrix(confusion_matrix(y_test, y_pred), \n",
        "                      show_absolute = True, \n",
        "                      show_normed = True,\n",
        "                      cmap = 'Reds')"
      ]
    }
  ],
  "metadata": {
    "colab": {
      "provenance": []
    },
    "gpuClass": "standard",
    "kernelspec": {
      "display_name": "Python 3",
      "name": "python3"
    },
    "language_info": {
      "name": "python"
    }
  },
  "nbformat": 4,
  "nbformat_minor": 0
}